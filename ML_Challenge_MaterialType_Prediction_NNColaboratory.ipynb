{
  "nbformat": 4,
  "nbformat_minor": 0,
  "metadata": {
    "colab": {
      "provenance": [],
      "gpuType": "T4"
    },
    "kernelspec": {
      "name": "python3",
      "display_name": "Python 3"
    },
    "language_info": {
      "name": "python"
    },
    "accelerator": "GPU"
  },
  "cells": [
    {
      "cell_type": "code",
      "execution_count": 103,
      "metadata": {
        "id": "AO7EIAPjciKB"
      },
      "outputs": [],
      "source": [
        "### Ericsson_ML_Challenge_MaterialType_Prediction"
      ]
    },
    {
      "cell_type": "code",
      "source": [
        "###!mkdir ~/.kaggle"
      ],
      "metadata": {
        "id": "PW7LI6b4cnxf"
      },
      "execution_count": 104,
      "outputs": []
    },
    {
      "cell_type": "code",
      "source": [
        "###!cp /kaggle.json ~/.kaggle/"
      ],
      "metadata": {
        "id": "MDMSLwjmcn1P"
      },
      "execution_count": 105,
      "outputs": []
    },
    {
      "cell_type": "code",
      "source": [
        "###!chmod 600 ~/.kaggle/kaggle.json"
      ],
      "metadata": {
        "id": "wSrXLZjccn4X"
      },
      "execution_count": 106,
      "outputs": []
    },
    {
      "cell_type": "code",
      "source": [
        "###! pip install kaggle"
      ],
      "metadata": {
        "id": "h61s9qtIcn7Q"
      },
      "execution_count": 107,
      "outputs": []
    },
    {
      "cell_type": "code",
      "source": [
        "###!pip install keras-tuner"
      ],
      "metadata": {
        "id": "i9yUJOMjcn-b"
      },
      "execution_count": 108,
      "outputs": []
    },
    {
      "cell_type": "code",
      "source": [
        "###!kaggle datasets download -d saranyashalya/ericsson-ml-challenge-materialtype-prediction"
      ],
      "metadata": {
        "id": "eOmA0s-CcoBH"
      },
      "execution_count": 109,
      "outputs": []
    },
    {
      "cell_type": "code",
      "source": [
        "###! unzip /content/ericsson-ml-challenge-materialtype-prediction.zip"
      ],
      "metadata": {
        "id": "Q731Zv8FfZKi"
      },
      "execution_count": 110,
      "outputs": []
    },
    {
      "cell_type": "code",
      "source": [
        "####! pip install tensorflow"
      ],
      "metadata": {
        "id": "w-g98wUffZVP"
      },
      "execution_count": 111,
      "outputs": []
    },
    {
      "cell_type": "code",
      "source": [
        "###! pip install bayesian-optimization"
      ],
      "metadata": {
        "id": "ES8vmLlKfZkh"
      },
      "execution_count": 112,
      "outputs": []
    },
    {
      "cell_type": "code",
      "source": [
        "import pandas as pd\n",
        "import numpy as np\n",
        "import tensorflow as tf\n",
        "from sklearn import preprocessing\n",
        "import matplotlib.pyplot as plt\n",
        "tf.random.set_seed(123)\n",
        "np.random.seed(123)"
      ],
      "metadata": {
        "id": "vATXQBAdfpGn"
      },
      "execution_count": 113,
      "outputs": []
    },
    {
      "cell_type": "code",
      "source": [
        "##!pip install bayesian-optimization"
      ],
      "metadata": {
        "id": "vNaWsWdpAhtv"
      },
      "execution_count": 114,
      "outputs": []
    },
    {
      "cell_type": "code",
      "source": [
        "# Import packages\n",
        "import numpy as np\n",
        "import pandas as pd\n",
        "import matplotlib.pyplot as plt\n",
        "import seaborn as sns\n",
        "from sklearn.model_selection import train_test_split\n",
        "from sklearn.model_selection import cross_val_score\n",
        "from keras.models import Sequential\n",
        "from keras.layers import Dense, BatchNormalization, Dropout\n",
        "#from tensorflow.keras.optimizers import Adam, SGD, RMSprop, Adadelta, Adagrad, Adamax, Nadam, Ftrl\n",
        "from keras.callbacks import EarlyStopping, ModelCheckpoint\n",
        "###from keras.wrappers.scikit_learn import KerasClassifier\n",
        "from math import floor\n",
        "from sklearn.metrics import make_scorer, accuracy_score\n",
        "from bayes_opt import BayesianOptimization\n",
        "from sklearn.model_selection import StratifiedKFold\n",
        "from keras.layers import LeakyReLU\n",
        "LeakyReLU = LeakyReLU(alpha=0.1)\n",
        "import warnings\n",
        "warnings.filterwarnings('ignore')\n",
        "pd.set_option(\"display.max_columns\", None)"
      ],
      "metadata": {
        "id": "s88RsMNifstL"
      },
      "execution_count": 115,
      "outputs": []
    },
    {
      "cell_type": "code",
      "source": [
        "# Import packages\n",
        "# Basic packages\n",
        "\n",
        "import pickle\n",
        "from math import floor\n",
        "from sklearn.model_selection import train_test_split, cross_val_score\n",
        "from sklearn.preprocessing import MinMaxScaler\n",
        "\n",
        "# Evaluation and bayesian optimization\n",
        "from sklearn.metrics import make_scorer, mean_absolute_error\n",
        "from sklearn.metrics import mean_squared_error as MSE\n",
        "from hyperopt import hp, fmin, tpe\n",
        "from sklearn.model_selection import GridSearchCV, StratifiedKFold\n",
        "\n",
        "import warnings\n",
        "warnings.filterwarnings('ignore')\n",
        "pd.set_option(\"display.max_columns\", None)"
      ],
      "metadata": {
        "id": "5VENaHXffvkm"
      },
      "execution_count": 116,
      "outputs": []
    },
    {
      "cell_type": "code",
      "source": [
        "train_data = pd.read_csv(\"/content/train_file.csv\")"
      ],
      "metadata": {
        "id": "2fHwy3dlf3OP"
      },
      "execution_count": 117,
      "outputs": []
    },
    {
      "cell_type": "code",
      "source": [
        "test_data = pd.read_csv(\"/content/test_file.csv\")"
      ],
      "metadata": {
        "id": "KWnFg3v7f9d2"
      },
      "execution_count": 118,
      "outputs": []
    },
    {
      "cell_type": "code",
      "source": [
        "print(train_data.shape, test_data.shape)"
      ],
      "metadata": {
        "colab": {
          "base_uri": "https://localhost:8080/",
          "height": 0
        },
        "id": "V0q6h0G9gq3t",
        "outputId": "b4d6c16c-6819-44ab-d2bd-eeb80997d022"
      },
      "execution_count": 119,
      "outputs": [
        {
          "output_type": "stream",
          "name": "stdout",
          "text": [
            "(31653, 12) (21102, 11)\n"
          ]
        }
      ]
    },
    {
      "cell_type": "code",
      "source": [
        "train_data.columns"
      ],
      "metadata": {
        "colab": {
          "base_uri": "https://localhost:8080/",
          "height": 0
        },
        "id": "u-ajVQqaguxv",
        "outputId": "59a415db-2e51-403c-f8f8-3ae0347a9f73"
      },
      "execution_count": 120,
      "outputs": [
        {
          "output_type": "execute_result",
          "data": {
            "text/plain": [
              "Index(['ID', 'UsageClass', 'CheckoutType', 'CheckoutYear', 'CheckoutMonth',\n",
              "       'Checkouts', 'Title', 'Creator', 'Subjects', 'Publisher',\n",
              "       'PublicationYear', 'MaterialType'],\n",
              "      dtype='object')"
            ]
          },
          "metadata": {},
          "execution_count": 120
        }
      ]
    },
    {
      "cell_type": "code",
      "source": [
        "train_data.head(3)"
      ],
      "metadata": {
        "colab": {
          "base_uri": "https://localhost:8080/",
          "height": 354
        },
        "id": "jYH3BBHfhhQq",
        "outputId": "deeb4682-219b-4db5-f059-92cf95b0980e"
      },
      "execution_count": 121,
      "outputs": [
        {
          "output_type": "execute_result",
          "data": {
            "text/plain": [
              "   ID UsageClass CheckoutType  CheckoutYear  CheckoutMonth  Checkouts  \\\n",
              "0   1   Physical      Horizon          2005              4          1   \n",
              "1   2   Physical      Horizon          2005              4          1   \n",
              "2   3   Physical      Horizon          2005              4          3   \n",
              "\n",
              "                                               Title               Creator  \\\n",
              "0                                         Tidal wave                   NaN   \n",
              "1                     London holiday / Richard Peck.  Peck, Richard, 1934-   \n",
              "2  Cinco de Mayo : celebrating Hispanic pride / C...      Gnojewski, Carol   \n",
              "\n",
              "                                            Subjects           Publisher  \\\n",
              "0             Tsunamis, Tsunamis Juvenile literature                 NaN   \n",
              "1                                                NaN             Viking,   \n",
              "2  Cinco de Mayo Mexican holiday History Juvenile...  Enslow Publishers,   \n",
              "\n",
              "  PublicationYear MaterialType  \n",
              "0             NaN         BOOK  \n",
              "1           1998.         BOOK  \n",
              "2          c2002.         BOOK  "
            ],
            "text/html": [
              "\n",
              "  <div id=\"df-23ad787c-bd3d-4e27-baa2-c38139de865d\" class=\"colab-df-container\">\n",
              "    <div>\n",
              "<style scoped>\n",
              "    .dataframe tbody tr th:only-of-type {\n",
              "        vertical-align: middle;\n",
              "    }\n",
              "\n",
              "    .dataframe tbody tr th {\n",
              "        vertical-align: top;\n",
              "    }\n",
              "\n",
              "    .dataframe thead th {\n",
              "        text-align: right;\n",
              "    }\n",
              "</style>\n",
              "<table border=\"1\" class=\"dataframe\">\n",
              "  <thead>\n",
              "    <tr style=\"text-align: right;\">\n",
              "      <th></th>\n",
              "      <th>ID</th>\n",
              "      <th>UsageClass</th>\n",
              "      <th>CheckoutType</th>\n",
              "      <th>CheckoutYear</th>\n",
              "      <th>CheckoutMonth</th>\n",
              "      <th>Checkouts</th>\n",
              "      <th>Title</th>\n",
              "      <th>Creator</th>\n",
              "      <th>Subjects</th>\n",
              "      <th>Publisher</th>\n",
              "      <th>PublicationYear</th>\n",
              "      <th>MaterialType</th>\n",
              "    </tr>\n",
              "  </thead>\n",
              "  <tbody>\n",
              "    <tr>\n",
              "      <th>0</th>\n",
              "      <td>1</td>\n",
              "      <td>Physical</td>\n",
              "      <td>Horizon</td>\n",
              "      <td>2005</td>\n",
              "      <td>4</td>\n",
              "      <td>1</td>\n",
              "      <td>Tidal wave</td>\n",
              "      <td>NaN</td>\n",
              "      <td>Tsunamis, Tsunamis Juvenile literature</td>\n",
              "      <td>NaN</td>\n",
              "      <td>NaN</td>\n",
              "      <td>BOOK</td>\n",
              "    </tr>\n",
              "    <tr>\n",
              "      <th>1</th>\n",
              "      <td>2</td>\n",
              "      <td>Physical</td>\n",
              "      <td>Horizon</td>\n",
              "      <td>2005</td>\n",
              "      <td>4</td>\n",
              "      <td>1</td>\n",
              "      <td>London holiday / Richard Peck.</td>\n",
              "      <td>Peck, Richard, 1934-</td>\n",
              "      <td>NaN</td>\n",
              "      <td>Viking,</td>\n",
              "      <td>1998.</td>\n",
              "      <td>BOOK</td>\n",
              "    </tr>\n",
              "    <tr>\n",
              "      <th>2</th>\n",
              "      <td>3</td>\n",
              "      <td>Physical</td>\n",
              "      <td>Horizon</td>\n",
              "      <td>2005</td>\n",
              "      <td>4</td>\n",
              "      <td>3</td>\n",
              "      <td>Cinco de Mayo : celebrating Hispanic pride / C...</td>\n",
              "      <td>Gnojewski, Carol</td>\n",
              "      <td>Cinco de Mayo Mexican holiday History Juvenile...</td>\n",
              "      <td>Enslow Publishers,</td>\n",
              "      <td>c2002.</td>\n",
              "      <td>BOOK</td>\n",
              "    </tr>\n",
              "  </tbody>\n",
              "</table>\n",
              "</div>\n",
              "    <div class=\"colab-df-buttons\">\n",
              "\n",
              "  <div class=\"colab-df-container\">\n",
              "    <button class=\"colab-df-convert\" onclick=\"convertToInteractive('df-23ad787c-bd3d-4e27-baa2-c38139de865d')\"\n",
              "            title=\"Convert this dataframe to an interactive table.\"\n",
              "            style=\"display:none;\">\n",
              "\n",
              "  <svg xmlns=\"http://www.w3.org/2000/svg\" height=\"24px\" viewBox=\"0 -960 960 960\">\n",
              "    <path d=\"M120-120v-720h720v720H120Zm60-500h600v-160H180v160Zm220 220h160v-160H400v160Zm0 220h160v-160H400v160ZM180-400h160v-160H180v160Zm440 0h160v-160H620v160ZM180-180h160v-160H180v160Zm440 0h160v-160H620v160Z\"/>\n",
              "  </svg>\n",
              "    </button>\n",
              "\n",
              "  <style>\n",
              "    .colab-df-container {\n",
              "      display:flex;\n",
              "      gap: 12px;\n",
              "    }\n",
              "\n",
              "    .colab-df-convert {\n",
              "      background-color: #E8F0FE;\n",
              "      border: none;\n",
              "      border-radius: 50%;\n",
              "      cursor: pointer;\n",
              "      display: none;\n",
              "      fill: #1967D2;\n",
              "      height: 32px;\n",
              "      padding: 0 0 0 0;\n",
              "      width: 32px;\n",
              "    }\n",
              "\n",
              "    .colab-df-convert:hover {\n",
              "      background-color: #E2EBFA;\n",
              "      box-shadow: 0px 1px 2px rgba(60, 64, 67, 0.3), 0px 1px 3px 1px rgba(60, 64, 67, 0.15);\n",
              "      fill: #174EA6;\n",
              "    }\n",
              "\n",
              "    .colab-df-buttons div {\n",
              "      margin-bottom: 4px;\n",
              "    }\n",
              "\n",
              "    [theme=dark] .colab-df-convert {\n",
              "      background-color: #3B4455;\n",
              "      fill: #D2E3FC;\n",
              "    }\n",
              "\n",
              "    [theme=dark] .colab-df-convert:hover {\n",
              "      background-color: #434B5C;\n",
              "      box-shadow: 0px 1px 3px 1px rgba(0, 0, 0, 0.15);\n",
              "      filter: drop-shadow(0px 1px 2px rgba(0, 0, 0, 0.3));\n",
              "      fill: #FFFFFF;\n",
              "    }\n",
              "  </style>\n",
              "\n",
              "    <script>\n",
              "      const buttonEl =\n",
              "        document.querySelector('#df-23ad787c-bd3d-4e27-baa2-c38139de865d button.colab-df-convert');\n",
              "      buttonEl.style.display =\n",
              "        google.colab.kernel.accessAllowed ? 'block' : 'none';\n",
              "\n",
              "      async function convertToInteractive(key) {\n",
              "        const element = document.querySelector('#df-23ad787c-bd3d-4e27-baa2-c38139de865d');\n",
              "        const dataTable =\n",
              "          await google.colab.kernel.invokeFunction('convertToInteractive',\n",
              "                                                    [key], {});\n",
              "        if (!dataTable) return;\n",
              "\n",
              "        const docLinkHtml = 'Like what you see? Visit the ' +\n",
              "          '<a target=\"_blank\" href=https://colab.research.google.com/notebooks/data_table.ipynb>data table notebook</a>'\n",
              "          + ' to learn more about interactive tables.';\n",
              "        element.innerHTML = '';\n",
              "        dataTable['output_type'] = 'display_data';\n",
              "        await google.colab.output.renderOutput(dataTable, element);\n",
              "        const docLink = document.createElement('div');\n",
              "        docLink.innerHTML = docLinkHtml;\n",
              "        element.appendChild(docLink);\n",
              "      }\n",
              "    </script>\n",
              "  </div>\n",
              "\n",
              "\n",
              "<div id=\"df-6d3f9d87-65ab-4707-b5d6-40c7c2213985\">\n",
              "  <button class=\"colab-df-quickchart\" onclick=\"quickchart('df-6d3f9d87-65ab-4707-b5d6-40c7c2213985')\"\n",
              "            title=\"Suggest charts\"\n",
              "            style=\"display:none;\">\n",
              "\n",
              "<svg xmlns=\"http://www.w3.org/2000/svg\" height=\"24px\"viewBox=\"0 0 24 24\"\n",
              "     width=\"24px\">\n",
              "    <g>\n",
              "        <path d=\"M19 3H5c-1.1 0-2 .9-2 2v14c0 1.1.9 2 2 2h14c1.1 0 2-.9 2-2V5c0-1.1-.9-2-2-2zM9 17H7v-7h2v7zm4 0h-2V7h2v10zm4 0h-2v-4h2v4z\"/>\n",
              "    </g>\n",
              "</svg>\n",
              "  </button>\n",
              "\n",
              "<style>\n",
              "  .colab-df-quickchart {\n",
              "      --bg-color: #E8F0FE;\n",
              "      --fill-color: #1967D2;\n",
              "      --hover-bg-color: #E2EBFA;\n",
              "      --hover-fill-color: #174EA6;\n",
              "      --disabled-fill-color: #AAA;\n",
              "      --disabled-bg-color: #DDD;\n",
              "  }\n",
              "\n",
              "  [theme=dark] .colab-df-quickchart {\n",
              "      --bg-color: #3B4455;\n",
              "      --fill-color: #D2E3FC;\n",
              "      --hover-bg-color: #434B5C;\n",
              "      --hover-fill-color: #FFFFFF;\n",
              "      --disabled-bg-color: #3B4455;\n",
              "      --disabled-fill-color: #666;\n",
              "  }\n",
              "\n",
              "  .colab-df-quickchart {\n",
              "    background-color: var(--bg-color);\n",
              "    border: none;\n",
              "    border-radius: 50%;\n",
              "    cursor: pointer;\n",
              "    display: none;\n",
              "    fill: var(--fill-color);\n",
              "    height: 32px;\n",
              "    padding: 0;\n",
              "    width: 32px;\n",
              "  }\n",
              "\n",
              "  .colab-df-quickchart:hover {\n",
              "    background-color: var(--hover-bg-color);\n",
              "    box-shadow: 0 1px 2px rgba(60, 64, 67, 0.3), 0 1px 3px 1px rgba(60, 64, 67, 0.15);\n",
              "    fill: var(--button-hover-fill-color);\n",
              "  }\n",
              "\n",
              "  .colab-df-quickchart-complete:disabled,\n",
              "  .colab-df-quickchart-complete:disabled:hover {\n",
              "    background-color: var(--disabled-bg-color);\n",
              "    fill: var(--disabled-fill-color);\n",
              "    box-shadow: none;\n",
              "  }\n",
              "\n",
              "  .colab-df-spinner {\n",
              "    border: 2px solid var(--fill-color);\n",
              "    border-color: transparent;\n",
              "    border-bottom-color: var(--fill-color);\n",
              "    animation:\n",
              "      spin 1s steps(1) infinite;\n",
              "  }\n",
              "\n",
              "  @keyframes spin {\n",
              "    0% {\n",
              "      border-color: transparent;\n",
              "      border-bottom-color: var(--fill-color);\n",
              "      border-left-color: var(--fill-color);\n",
              "    }\n",
              "    20% {\n",
              "      border-color: transparent;\n",
              "      border-left-color: var(--fill-color);\n",
              "      border-top-color: var(--fill-color);\n",
              "    }\n",
              "    30% {\n",
              "      border-color: transparent;\n",
              "      border-left-color: var(--fill-color);\n",
              "      border-top-color: var(--fill-color);\n",
              "      border-right-color: var(--fill-color);\n",
              "    }\n",
              "    40% {\n",
              "      border-color: transparent;\n",
              "      border-right-color: var(--fill-color);\n",
              "      border-top-color: var(--fill-color);\n",
              "    }\n",
              "    60% {\n",
              "      border-color: transparent;\n",
              "      border-right-color: var(--fill-color);\n",
              "    }\n",
              "    80% {\n",
              "      border-color: transparent;\n",
              "      border-right-color: var(--fill-color);\n",
              "      border-bottom-color: var(--fill-color);\n",
              "    }\n",
              "    90% {\n",
              "      border-color: transparent;\n",
              "      border-bottom-color: var(--fill-color);\n",
              "    }\n",
              "  }\n",
              "</style>\n",
              "\n",
              "  <script>\n",
              "    async function quickchart(key) {\n",
              "      const quickchartButtonEl =\n",
              "        document.querySelector('#' + key + ' button');\n",
              "      quickchartButtonEl.disabled = true;  // To prevent multiple clicks.\n",
              "      quickchartButtonEl.classList.add('colab-df-spinner');\n",
              "      try {\n",
              "        const charts = await google.colab.kernel.invokeFunction(\n",
              "            'suggestCharts', [key], {});\n",
              "      } catch (error) {\n",
              "        console.error('Error during call to suggestCharts:', error);\n",
              "      }\n",
              "      quickchartButtonEl.classList.remove('colab-df-spinner');\n",
              "      quickchartButtonEl.classList.add('colab-df-quickchart-complete');\n",
              "    }\n",
              "    (() => {\n",
              "      let quickchartButtonEl =\n",
              "        document.querySelector('#df-6d3f9d87-65ab-4707-b5d6-40c7c2213985 button');\n",
              "      quickchartButtonEl.style.display =\n",
              "        google.colab.kernel.accessAllowed ? 'block' : 'none';\n",
              "    })();\n",
              "  </script>\n",
              "</div>\n",
              "\n",
              "    </div>\n",
              "  </div>\n"
            ]
          },
          "metadata": {},
          "execution_count": 121
        }
      ]
    },
    {
      "cell_type": "code",
      "source": [
        "train_data[\"MaterialType\"].value_counts()"
      ],
      "metadata": {
        "colab": {
          "base_uri": "https://localhost:8080/",
          "height": 0
        },
        "id": "1F2CAv8dg1Uw",
        "outputId": "5c9f2f27-c19f-4729-d0fd-8eaa8e1606ea"
      },
      "execution_count": 122,
      "outputs": [
        {
          "output_type": "execute_result",
          "data": {
            "text/plain": [
              "BOOK         21707\n",
              "SOUNDDISC     4149\n",
              "VIDEOCASS     2751\n",
              "VIDEODISC     1420\n",
              "SOUNDCASS     1020\n",
              "MIXED          347\n",
              "MUSIC          165\n",
              "CR              94\n",
              "Name: MaterialType, dtype: int64"
            ]
          },
          "metadata": {},
          "execution_count": 122
        }
      ]
    },
    {
      "cell_type": "code",
      "source": [
        "test_data[\"MaterialType\"] = 0"
      ],
      "metadata": {
        "id": "Oz7vne3yg7cl"
      },
      "execution_count": 123,
      "outputs": []
    },
    {
      "cell_type": "code",
      "source": [
        "from matplotlib_venn import venn2, venn2_circles, venn2_unweighted\n",
        "from matplotlib_venn import venn3, venn3_circles"
      ],
      "metadata": {
        "id": "GCxmtR_GhCum"
      },
      "execution_count": 124,
      "outputs": []
    },
    {
      "cell_type": "code",
      "source": [
        "set_numbers_train = set(train_data[['ID']].drop_duplicates().sort_values(by = 'ID')['ID'].tolist())\n",
        "set_numbers_test = set(test_data[['ID']].drop_duplicates().sort_values(by = 'ID')['ID'].tolist())\n",
        "venn2((set_numbers_train, set_numbers_test), set_labels = ('Train numbers', 'Test numbers'))"
      ],
      "metadata": {
        "colab": {
          "base_uri": "https://localhost:8080/",
          "height": 298
        },
        "id": "HJZFpA3nhGe9",
        "outputId": "91d47bca-33e4-4917-8d3a-33ce86b08914"
      },
      "execution_count": 125,
      "outputs": [
        {
          "output_type": "execute_result",
          "data": {
            "text/plain": [
              "<matplotlib_venn._common.VennDiagram at 0x7cbb14f3d840>"
            ]
          },
          "metadata": {},
          "execution_count": 125
        },
        {
          "output_type": "display_data",
          "data": {
            "text/plain": [
              "<Figure size 640x480 with 1 Axes>"
            ],
            "image/png": "[encoded data removed]"
          },
          "metadata": {}
        }
      ]
    },
    {
      "cell_type": "markdown",
      "source": [
        "### The above data explains the `size` of train and test data."
      ],
      "metadata": {
        "id": "wDGpYSs6hSeu"
      }
    },
    {
      "cell_type": "code",
      "source": [
        "train_data.columns"
      ],
      "metadata": {
        "colab": {
          "base_uri": "https://localhost:8080/",
          "height": 0
        },
        "id": "ce-2DXxthIJi",
        "outputId": "dfadf1ef-7b90-44cd-e260-9b9b43af919d"
      },
      "execution_count": 126,
      "outputs": [
        {
          "output_type": "execute_result",
          "data": {
            "text/plain": [
              "Index(['ID', 'UsageClass', 'CheckoutType', 'CheckoutYear', 'CheckoutMonth',\n",
              "       'Checkouts', 'Title', 'Creator', 'Subjects', 'Publisher',\n",
              "       'PublicationYear', 'MaterialType'],\n",
              "      dtype='object')"
            ]
          },
          "metadata": {},
          "execution_count": 126
        }
      ]
    },
    {
      "cell_type": "code",
      "source": [
        "num_var = [feature for feature in train_data.columns if train_data[feature].dtypes != 'O']\n",
        "discrete_var = [feature for feature in num_var if len(train_data[feature].unique()) <= 25]\n",
        "cont_var = [feature for feature in num_var if feature not in discrete_var]\n",
        "categ_var = [feature for feature in train_data.columns if feature not in num_var]"
      ],
      "metadata": {
        "id": "R-22uBJfhj81"
      },
      "execution_count": 127,
      "outputs": []
    },
    {
      "cell_type": "code",
      "source": [
        "print(\"The Numerical Variables are :\", num_var)\n",
        "print(\"The Discreate Variables are :\", discrete_var)\n",
        "print(\"The Continuous Variables are :\", cont_var)\n",
        "print(\"The Categorical Variables are :\", categ_var)"
      ],
      "metadata": {
        "colab": {
          "base_uri": "https://localhost:8080/",
          "height": 0
        },
        "id": "LbEgL7V2hpnu",
        "outputId": "4a4d47af-b9ca-4320-abb3-ed59b4fd7ad9"
      },
      "execution_count": 128,
      "outputs": [
        {
          "output_type": "stream",
          "name": "stdout",
          "text": [
            "The Numerical Variables are : ['ID', 'CheckoutYear', 'CheckoutMonth', 'Checkouts']\n",
            "The Discreate Variables are : ['CheckoutYear', 'CheckoutMonth']\n",
            "The Continuous Variables are : ['ID', 'Checkouts']\n",
            "The Categorical Variables are : ['UsageClass', 'CheckoutType', 'Title', 'Creator', 'Subjects', 'Publisher', 'PublicationYear', 'MaterialType']\n"
          ]
        }
      ]
    },
    {
      "cell_type": "markdown",
      "source": [
        "### CHECKING `NULL VALUES` OR NOT"
      ],
      "metadata": {
        "id": "5DIRfc7qkSKN"
      }
    },
    {
      "cell_type": "code",
      "source": [
        "train_data.isnull().sum()"
      ],
      "metadata": {
        "colab": {
          "base_uri": "https://localhost:8080/",
          "height": 0
        },
        "id": "kb-rJ0dHkcod",
        "outputId": "7c959d1a-e95d-40bf-8eb6-a37b4e39397a"
      },
      "execution_count": 129,
      "outputs": [
        {
          "output_type": "execute_result",
          "data": {
            "text/plain": [
              "ID                     0\n",
              "UsageClass             0\n",
              "CheckoutType           0\n",
              "CheckoutYear           0\n",
              "CheckoutMonth          0\n",
              "Checkouts              0\n",
              "Title                  0\n",
              "Creator            23137\n",
              "Subjects            1763\n",
              "Publisher          21916\n",
              "PublicationYear    21931\n",
              "MaterialType           0\n",
              "dtype: int64"
            ]
          },
          "metadata": {},
          "execution_count": 129
        }
      ]
    },
    {
      "cell_type": "code",
      "source": [
        "train_data = train_data.fillna(0)"
      ],
      "metadata": {
        "id": "QjoP__S3krV6"
      },
      "execution_count": 130,
      "outputs": []
    },
    {
      "cell_type": "code",
      "source": [
        "train_data.isnull().sum()"
      ],
      "metadata": {
        "colab": {
          "base_uri": "https://localhost:8080/",
          "height": 0
        },
        "id": "T3ef48nWk3Ai",
        "outputId": "c81bd814-d10f-4f9f-ac2a-54ed0dc5add3"
      },
      "execution_count": 131,
      "outputs": [
        {
          "output_type": "execute_result",
          "data": {
            "text/plain": [
              "ID                 0\n",
              "UsageClass         0\n",
              "CheckoutType       0\n",
              "CheckoutYear       0\n",
              "CheckoutMonth      0\n",
              "Checkouts          0\n",
              "Title              0\n",
              "Creator            0\n",
              "Subjects           0\n",
              "Publisher          0\n",
              "PublicationYear    0\n",
              "MaterialType       0\n",
              "dtype: int64"
            ]
          },
          "metadata": {},
          "execution_count": 131
        }
      ]
    },
    {
      "cell_type": "code",
      "source": [
        "test_data = test_data.fillna(0)"
      ],
      "metadata": {
        "id": "p4g6ZjtfC7O0"
      },
      "execution_count": 132,
      "outputs": []
    },
    {
      "cell_type": "markdown",
      "source": [
        "### CATEGORICAL   VARIABLES"
      ],
      "metadata": {
        "id": "l-lV7q2DiGIA"
      }
    },
    {
      "cell_type": "code",
      "source": [
        "train_data.columns"
      ],
      "metadata": {
        "colab": {
          "base_uri": "https://localhost:8080/",
          "height": 0
        },
        "id": "3IfNtha8h-pE",
        "outputId": "9e51ae46-d96a-40f7-9b9e-922b7fb21a44"
      },
      "execution_count": 133,
      "outputs": [
        {
          "output_type": "execute_result",
          "data": {
            "text/plain": [
              "Index(['ID', 'UsageClass', 'CheckoutType', 'CheckoutYear', 'CheckoutMonth',\n",
              "       'Checkouts', 'Title', 'Creator', 'Subjects', 'Publisher',\n",
              "       'PublicationYear', 'MaterialType'],\n",
              "      dtype='object')"
            ]
          },
          "metadata": {},
          "execution_count": 133
        }
      ]
    },
    {
      "cell_type": "code",
      "source": [
        "train_data[\"MaterialType\"].value_counts()"
      ],
      "metadata": {
        "colab": {
          "base_uri": "https://localhost:8080/",
          "height": 0
        },
        "id": "ww0ENEz3i2Ws",
        "outputId": "daddfaf1-728b-4b9f-ba64-8b00a74379c2"
      },
      "execution_count": 134,
      "outputs": [
        {
          "output_type": "execute_result",
          "data": {
            "text/plain": [
              "BOOK         21707\n",
              "SOUNDDISC     4149\n",
              "VIDEOCASS     2751\n",
              "VIDEODISC     1420\n",
              "SOUNDCASS     1020\n",
              "MIXED          347\n",
              "MUSIC          165\n",
              "CR              94\n",
              "Name: MaterialType, dtype: int64"
            ]
          },
          "metadata": {},
          "execution_count": 134
        }
      ]
    },
    {
      "cell_type": "markdown",
      "source": [
        "### (0: 'BOOK', 1: 'CR', 2: 'MIXED', 3: 'MUSIC', 4: 'SOUNDCASS', 5: 'SOUNDDISC', 6: 'VIDEOCASS', 7: 'VIDEODISC'}"
      ],
      "metadata": {
        "id": "esw4E8B8BdNx"
      }
    },
    {
      "cell_type": "code",
      "source": [
        "c = train_data[\"MaterialType\"].astype('category')\n",
        "d = dict(enumerate(c.cat.categories))\n",
        "print(d)"
      ],
      "metadata": {
        "colab": {
          "base_uri": "https://localhost:8080/",
          "height": 0
        },
        "id": "z-Jn5LAFi7nM",
        "outputId": "cc80b1e1-8c18-47bf-8437-83a72a0a3f9b"
      },
      "execution_count": 135,
      "outputs": [
        {
          "output_type": "stream",
          "name": "stdout",
          "text": [
            "{0: 'BOOK', 1: 'CR', 2: 'MIXED', 3: 'MUSIC', 4: 'SOUNDCASS', 5: 'SOUNDDISC', 6: 'VIDEOCASS', 7: 'VIDEODISC'}\n"
          ]
        }
      ]
    },
    {
      "cell_type": "code",
      "source": [
        "train_data['MaterialType'] = train_data.MaterialType.astype('category').cat.codes"
      ],
      "metadata": {
        "id": "vruwCOqUjDu0"
      },
      "execution_count": 136,
      "outputs": []
    },
    {
      "cell_type": "markdown",
      "source": [
        "### Analysis For `Numerical` Variables"
      ],
      "metadata": {
        "id": "G6DLrIz_jUV-"
      }
    },
    {
      "cell_type": "code",
      "source": [
        "#import seaborn as sns\n",
        "#import matplotlib.pyplot as plt\n",
        "\n",
        "for feature in num_var:\n",
        "  data=train_data.copy()\n",
        "  sns.distplot(train_data[feature])\n",
        "  plt.xlabel(feature)\n",
        "  plt.ylabel(\"Count\")\n",
        "  plt.title(feature)\n",
        "  plt.figure(figsize=(3,3))\n",
        "  plt.show()"
      ],
      "metadata": {
        "colab": {
          "base_uri": "https://localhost:8080/",
          "height": 1906
        },
        "id": "1wizFddojL_U",
        "outputId": "21d724a8-266f-4ef1-81d8-56b9c168b251"
      },
      "execution_count": 137,
      "outputs": [
        {
          "output_type": "display_data",
          "data": {
            "text/plain": [
              "<Figure size 640x480 with 1 Axes>"
            ],
            "image/png": "[encoded data removed]"
          },
          "metadata": {}
        },
        {
          "output_type": "display_data",
          "data": {
            "text/plain": [
              "<Figure size 300x300 with 0 Axes>"
            ]
          },
          "metadata": {}
        },
        {
          "output_type": "display_data",
          "data": {
            "text/plain": [
              "<Figure size 640x480 with 1 Axes>"
            ],
            "image/png": "[encoded data removed]"
          },
          "metadata": {}
        },
        {
          "output_type": "display_data",
          "data": {
            "text/plain": [
              "<Figure size 300x300 with 0 Axes>"
            ]
          },
          "metadata": {}
        },
        {
          "output_type": "display_data",
          "data": {
            "text/plain": [
              "<Figure size 640x480 with 1 Axes>"
            ],
            "image/png": "[encoded data removed]"
          },
          "metadata": {}
        },
        {
          "output_type": "display_data",
          "data": {
            "text/plain": [
              "<Figure size 300x300 with 0 Axes>"
            ]
          },
          "metadata": {}
        },
        {
          "output_type": "display_data",
          "data": {
            "text/plain": [
              "<Figure size 640x480 with 1 Axes>"
            ],
            "image/png": "[encoded data removed]"
          },
          "metadata": {}
        },
        {
          "output_type": "display_data",
          "data": {
            "text/plain": [
              "<Figure size 300x300 with 0 Axes>"
            ]
          },
          "metadata": {}
        }
      ]
    },
    {
      "cell_type": "code",
      "source": [
        "train_data.head(3)"
      ],
      "metadata": {
        "colab": {
          "base_uri": "https://localhost:8080/",
          "height": 354
        },
        "id": "MHXwPvlnkF7Q",
        "outputId": "56d4271d-b3f3-4b53-a41c-79f868e4d47c"
      },
      "execution_count": 138,
      "outputs": [
        {
          "output_type": "execute_result",
          "data": {
            "text/plain": [
              "   ID UsageClass CheckoutType  CheckoutYear  CheckoutMonth  Checkouts  \\\n",
              "0   1   Physical      Horizon          2005              4          1   \n",
              "1   2   Physical      Horizon          2005              4          1   \n",
              "2   3   Physical      Horizon          2005              4          3   \n",
              "\n",
              "                                               Title               Creator  \\\n",
              "0                                         Tidal wave                     0   \n",
              "1                     London holiday / Richard Peck.  Peck, Richard, 1934-   \n",
              "2  Cinco de Mayo : celebrating Hispanic pride / C...      Gnojewski, Carol   \n",
              "\n",
              "                                            Subjects           Publisher  \\\n",
              "0             Tsunamis, Tsunamis Juvenile literature                   0   \n",
              "1                                                  0             Viking,   \n",
              "2  Cinco de Mayo Mexican holiday History Juvenile...  Enslow Publishers,   \n",
              "\n",
              "  PublicationYear  MaterialType  \n",
              "0               0             0  \n",
              "1           1998.             0  \n",
              "2          c2002.             0  "
            ],
            "text/html": [
              "\n",
              "  <div id=\"df-4d6ebc37-9197-4100-bfe7-e3f387b4df9d\" class=\"colab-df-container\">\n",
              "    <div>\n",
              "<style scoped>\n",
              "    .dataframe tbody tr th:only-of-type {\n",
              "        vertical-align: middle;\n",
              "    }\n",
              "\n",
              "    .dataframe tbody tr th {\n",
              "        vertical-align: top;\n",
              "    }\n",
              "\n",
              "    .dataframe thead th {\n",
              "        text-align: right;\n",
              "    }\n",
              "</style>\n",
              "<table border=\"1\" class=\"dataframe\">\n",
              "  <thead>\n",
              "    <tr style=\"text-align: right;\">\n",
              "      <th></th>\n",
              "      <th>ID</th>\n",
              "      <th>UsageClass</th>\n",
              "      <th>CheckoutType</th>\n",
              "      <th>CheckoutYear</th>\n",
              "      <th>CheckoutMonth</th>\n",
              "      <th>Checkouts</th>\n",
              "      <th>Title</th>\n",
              "      <th>Creator</th>\n",
              "      <th>Subjects</th>\n",
              "      <th>Publisher</th>\n",
              "      <th>PublicationYear</th>\n",
              "      <th>MaterialType</th>\n",
              "    </tr>\n",
              "  </thead>\n",
              "  <tbody>\n",
              "    <tr>\n",
              "      <th>0</th>\n",
              "      <td>1</td>\n",
              "      <td>Physical</td>\n",
              "      <td>Horizon</td>\n",
              "      <td>2005</td>\n",
              "      <td>4</td>\n",
              "      <td>1</td>\n",
              "      <td>Tidal wave</td>\n",
              "      <td>0</td>\n",
              "      <td>Tsunamis, Tsunamis Juvenile literature</td>\n",
              "      <td>0</td>\n",
              "      <td>0</td>\n",
              "      <td>0</td>\n",
              "    </tr>\n",
              "    <tr>\n",
              "      <th>1</th>\n",
              "      <td>2</td>\n",
              "      <td>Physical</td>\n",
              "      <td>Horizon</td>\n",
              "      <td>2005</td>\n",
              "      <td>4</td>\n",
              "      <td>1</td>\n",
              "      <td>London holiday / Richard Peck.</td>\n",
              "      <td>Peck, Richard, 1934-</td>\n",
              "      <td>0</td>\n",
              "      <td>Viking,</td>\n",
              "      <td>1998.</td>\n",
              "      <td>0</td>\n",
              "    </tr>\n",
              "    <tr>\n",
              "      <th>2</th>\n",
              "      <td>3</td>\n",
              "      <td>Physical</td>\n",
              "      <td>Horizon</td>\n",
              "      <td>2005</td>\n",
              "      <td>4</td>\n",
              "      <td>3</td>\n",
              "      <td>Cinco de Mayo : celebrating Hispanic pride / C...</td>\n",
              "      <td>Gnojewski, Carol</td>\n",
              "      <td>Cinco de Mayo Mexican holiday History Juvenile...</td>\n",
              "      <td>Enslow Publishers,</td>\n",
              "      <td>c2002.</td>\n",
              "      <td>0</td>\n",
              "    </tr>\n",
              "  </tbody>\n",
              "</table>\n",
              "</div>\n",
              "    <div class=\"colab-df-buttons\">\n",
              "\n",
              "  <div class=\"colab-df-container\">\n",
              "    <button class=\"colab-df-convert\" onclick=\"convertToInteractive('df-4d6ebc37-9197-4100-bfe7-e3f387b4df9d')\"\n",
              "            title=\"Convert this dataframe to an interactive table.\"\n",
              "            style=\"display:none;\">\n",
              "\n",
              "  <svg xmlns=\"http://www.w3.org/2000/svg\" height=\"24px\" viewBox=\"0 -960 960 960\">\n",
              "    <path d=\"M120-120v-720h720v720H120Zm60-500h600v-160H180v160Zm220 220h160v-160H400v160Zm0 220h160v-160H400v160ZM180-400h160v-160H180v160Zm440 0h160v-160H620v160ZM180-180h160v-160H180v160Zm440 0h160v-160H620v160Z\"/>\n",
              "  </svg>\n",
              "    </button>\n",
              "\n",
              "  <style>\n",
              "    .colab-df-container {\n",
              "      display:flex;\n",
              "      gap: 12px;\n",
              "    }\n",
              "\n",
              "    .colab-df-convert {\n",
              "      background-color: #E8F0FE;\n",
              "      border: none;\n",
              "      border-radius: 50%;\n",
              "      cursor: pointer;\n",
              "      display: none;\n",
              "      fill: #1967D2;\n",
              "      height: 32px;\n",
              "      padding: 0 0 0 0;\n",
              "      width: 32px;\n",
              "    }\n",
              "\n",
              "    .colab-df-convert:hover {\n",
              "      background-color: #E2EBFA;\n",
              "      box-shadow: 0px 1px 2px rgba(60, 64, 67, 0.3), 0px 1px 3px 1px rgba(60, 64, 67, 0.15);\n",
              "      fill: #174EA6;\n",
              "    }\n",
              "\n",
              "    .colab-df-buttons div {\n",
              "      margin-bottom: 4px;\n",
              "    }\n",
              "\n",
              "    [theme=dark] .colab-df-convert {\n",
              "      background-color: #3B4455;\n",
              "      fill: #D2E3FC;\n",
              "    }\n",
              "\n",
              "    [theme=dark] .colab-df-convert:hover {\n",
              "      background-color: #434B5C;\n",
              "      box-shadow: 0px 1px 3px 1px rgba(0, 0, 0, 0.15);\n",
              "      filter: drop-shadow(0px 1px 2px rgba(0, 0, 0, 0.3));\n",
              "      fill: #FFFFFF;\n",
              "    }\n",
              "  </style>\n",
              "\n",
              "    <script>\n",
              "      const buttonEl =\n",
              "        document.querySelector('#df-4d6ebc37-9197-4100-bfe7-e3f387b4df9d button.colab-df-convert');\n",
              "      buttonEl.style.display =\n",
              "        google.colab.kernel.accessAllowed ? 'block' : 'none';\n",
              "\n",
              "      async function convertToInteractive(key) {\n",
              "        const element = document.querySelector('#df-4d6ebc37-9197-4100-bfe7-e3f387b4df9d');\n",
              "        const dataTable =\n",
              "          await google.colab.kernel.invokeFunction('convertToInteractive',\n",
              "                                                    [key], {});\n",
              "        if (!dataTable) return;\n",
              "\n",
              "        const docLinkHtml = 'Like what you see? Visit the ' +\n",
              "          '<a target=\"_blank\" href=https://colab.research.google.com/notebooks/data_table.ipynb>data table notebook</a>'\n",
              "          + ' to learn more about interactive tables.';\n",
              "        element.innerHTML = '';\n",
              "        dataTable['output_type'] = 'display_data';\n",
              "        await google.colab.output.renderOutput(dataTable, element);\n",
              "        const docLink = document.createElement('div');\n",
              "        docLink.innerHTML = docLinkHtml;\n",
              "        element.appendChild(docLink);\n",
              "      }\n",
              "    </script>\n",
              "  </div>\n",
              "\n",
              "\n",
              "<div id=\"df-7e895508-ef95-4349-8830-85b75126f1ab\">\n",
              "  <button class=\"colab-df-quickchart\" onclick=\"quickchart('df-7e895508-ef95-4349-8830-85b75126f1ab')\"\n",
              "            title=\"Suggest charts\"\n",
              "            style=\"display:none;\">\n",
              "\n",
              "<svg xmlns=\"http://www.w3.org/2000/svg\" height=\"24px\"viewBox=\"0 0 24 24\"\n",
              "     width=\"24px\">\n",
              "    <g>\n",
              "        <path d=\"M19 3H5c-1.1 0-2 .9-2 2v14c0 1.1.9 2 2 2h14c1.1 0 2-.9 2-2V5c0-1.1-.9-2-2-2zM9 17H7v-7h2v7zm4 0h-2V7h2v10zm4 0h-2v-4h2v4z\"/>\n",
              "    </g>\n",
              "</svg>\n",
              "  </button>\n",
              "\n",
              "<style>\n",
              "  .colab-df-quickchart {\n",
              "      --bg-color: #E8F0FE;\n",
              "      --fill-color: #1967D2;\n",
              "      --hover-bg-color: #E2EBFA;\n",
              "      --hover-fill-color: #174EA6;\n",
              "      --disabled-fill-color: #AAA;\n",
              "      --disabled-bg-color: #DDD;\n",
              "  }\n",
              "\n",
              "  [theme=dark] .colab-df-quickchart {\n",
              "      --bg-color: #3B4455;\n",
              "      --fill-color: #D2E3FC;\n",
              "      --hover-bg-color: #434B5C;\n",
              "      --hover-fill-color: #FFFFFF;\n",
              "      --disabled-bg-color: #3B4455;\n",
              "      --disabled-fill-color: #666;\n",
              "  }\n",
              "\n",
              "  .colab-df-quickchart {\n",
              "    background-color: var(--bg-color);\n",
              "    border: none;\n",
              "    border-radius: 50%;\n",
              "    cursor: pointer;\n",
              "    display: none;\n",
              "    fill: var(--fill-color);\n",
              "    height: 32px;\n",
              "    padding: 0;\n",
              "    width: 32px;\n",
              "  }\n",
              "\n",
              "  .colab-df-quickchart:hover {\n",
              "    background-color: var(--hover-bg-color);\n",
              "    box-shadow: 0 1px 2px rgba(60, 64, 67, 0.3), 0 1px 3px 1px rgba(60, 64, 67, 0.15);\n",
              "    fill: var(--button-hover-fill-color);\n",
              "  }\n",
              "\n",
              "  .colab-df-quickchart-complete:disabled,\n",
              "  .colab-df-quickchart-complete:disabled:hover {\n",
              "    background-color: var(--disabled-bg-color);\n",
              "    fill: var(--disabled-fill-color);\n",
              "    box-shadow: none;\n",
              "  }\n",
              "\n",
              "  .colab-df-spinner {\n",
              "    border: 2px solid var(--fill-color);\n",
              "    border-color: transparent;\n",
              "    border-bottom-color: var(--fill-color);\n",
              "    animation:\n",
              "      spin 1s steps(1) infinite;\n",
              "  }\n",
              "\n",
              "  @keyframes spin {\n",
              "    0% {\n",
              "      border-color: transparent;\n",
              "      border-bottom-color: var(--fill-color);\n",
              "      border-left-color: var(--fill-color);\n",
              "    }\n",
              "    20% {\n",
              "      border-color: transparent;\n",
              "      border-left-color: var(--fill-color);\n",
              "      border-top-color: var(--fill-color);\n",
              "    }\n",
              "    30% {\n",
              "      border-color: transparent;\n",
              "      border-left-color: var(--fill-color);\n",
              "      border-top-color: var(--fill-color);\n",
              "      border-right-color: var(--fill-color);\n",
              "    }\n",
              "    40% {\n",
              "      border-color: transparent;\n",
              "      border-right-color: var(--fill-color);\n",
              "      border-top-color: var(--fill-color);\n",
              "    }\n",
              "    60% {\n",
              "      border-color: transparent;\n",
              "      border-right-color: var(--fill-color);\n",
              "    }\n",
              "    80% {\n",
              "      border-color: transparent;\n",
              "      border-right-color: var(--fill-color);\n",
              "      border-bottom-color: var(--fill-color);\n",
              "    }\n",
              "    90% {\n",
              "      border-color: transparent;\n",
              "      border-bottom-color: var(--fill-color);\n",
              "    }\n",
              "  }\n",
              "</style>\n",
              "\n",
              "  <script>\n",
              "    async function quickchart(key) {\n",
              "      const quickchartButtonEl =\n",
              "        document.querySelector('#' + key + ' button');\n",
              "      quickchartButtonEl.disabled = true;  // To prevent multiple clicks.\n",
              "      quickchartButtonEl.classList.add('colab-df-spinner');\n",
              "      try {\n",
              "        const charts = await google.colab.kernel.invokeFunction(\n",
              "            'suggestCharts', [key], {});\n",
              "      } catch (error) {\n",
              "        console.error('Error during call to suggestCharts:', error);\n",
              "      }\n",
              "      quickchartButtonEl.classList.remove('colab-df-spinner');\n",
              "      quickchartButtonEl.classList.add('colab-df-quickchart-complete');\n",
              "    }\n",
              "    (() => {\n",
              "      let quickchartButtonEl =\n",
              "        document.querySelector('#df-7e895508-ef95-4349-8830-85b75126f1ab button');\n",
              "      quickchartButtonEl.style.display =\n",
              "        google.colab.kernel.accessAllowed ? 'block' : 'none';\n",
              "    })();\n",
              "  </script>\n",
              "</div>\n",
              "\n",
              "    </div>\n",
              "  </div>\n"
            ]
          },
          "metadata": {},
          "execution_count": 138
        }
      ]
    },
    {
      "cell_type": "code",
      "source": [
        "####! pip install klib"
      ],
      "metadata": {
        "id": "WJQs04h8lDAv"
      },
      "execution_count": 139,
      "outputs": []
    },
    {
      "cell_type": "markdown",
      "source": [
        "#### Using KLIB Library"
      ],
      "metadata": {
        "id": "1YUThQhVlFG2"
      }
    },
    {
      "cell_type": "code",
      "source": [
        "import klib"
      ],
      "metadata": {
        "id": "HWyQ_P7olDI_"
      },
      "execution_count": 140,
      "outputs": []
    },
    {
      "cell_type": "code",
      "source": [
        "train_data = klib.clean_column_names(train_data)"
      ],
      "metadata": {
        "id": "o9tbm6qvlS5y"
      },
      "execution_count": 141,
      "outputs": []
    },
    {
      "cell_type": "code",
      "source": [
        "test_data = klib.clean_column_names(test_data)"
      ],
      "metadata": {
        "id": "zZaCLEKllvMs"
      },
      "execution_count": 142,
      "outputs": []
    },
    {
      "cell_type": "code",
      "source": [
        "train_data = klib.convert_datatypes(train_data)\n",
        "test_data = klib.convert_datatypes(test_data)"
      ],
      "metadata": {
        "id": "pp0K8dfumUfk"
      },
      "execution_count": 143,
      "outputs": []
    },
    {
      "cell_type": "code",
      "source": [
        "train_data = klib.mv_col_handling(train_data)\n",
        "test_data = klib.mv_col_handling(test_data)"
      ],
      "metadata": {
        "id": "ZQpyltvCmgYE"
      },
      "execution_count": 144,
      "outputs": []
    },
    {
      "cell_type": "code",
      "source": [
        "train_data.dtypes"
      ],
      "metadata": {
        "colab": {
          "base_uri": "https://localhost:8080/",
          "height": 0
        },
        "id": "tkqwblelmkP3",
        "outputId": "c0d3ef94-73b8-4666-852f-3b7fac741cc9"
      },
      "execution_count": 145,
      "outputs": [
        {
          "output_type": "execute_result",
          "data": {
            "text/plain": [
              "id                     int16\n",
              "usage_class         category\n",
              "checkout_type       category\n",
              "checkout_year          int16\n",
              "checkout_month          int8\n",
              "checkouts               int8\n",
              "title                 string\n",
              "creator               object\n",
              "subjects              object\n",
              "publisher             object\n",
              "publication_year    category\n",
              "material_type           int8\n",
              "dtype: object"
            ]
          },
          "metadata": {},
          "execution_count": 145
        }
      ]
    },
    {
      "cell_type": "markdown",
      "source": [
        "### Data Conversion"
      ],
      "metadata": {
        "id": "BDLAhPSVmz93"
      }
    },
    {
      "cell_type": "code",
      "source": [
        "train_data.head(2)"
      ],
      "metadata": {
        "colab": {
          "base_uri": "https://localhost:8080/",
          "height": 254
        },
        "id": "EX6JmgTAmzPM",
        "outputId": "7d4b27f8-ce2d-48aa-fce4-8461fae3a53c"
      },
      "execution_count": 146,
      "outputs": [
        {
          "output_type": "execute_result",
          "data": {
            "text/plain": [
              "   id usage_class checkout_type  checkout_year  checkout_month  checkouts  \\\n",
              "0   1    Physical       Horizon           2005               4          1   \n",
              "1   2    Physical       Horizon           2005               4          1   \n",
              "\n",
              "                            title               creator  \\\n",
              "0                      Tidal wave                     0   \n",
              "1  London holiday / Richard Peck.  Peck, Richard, 1934-   \n",
              "\n",
              "                                 subjects publisher publication_year  \\\n",
              "0  Tsunamis, Tsunamis Juvenile literature         0                0   \n",
              "1                                       0   Viking,            1998.   \n",
              "\n",
              "   material_type  \n",
              "0              0  \n",
              "1              0  "
            ],
            "text/html": [
              "\n",
              "  <div id=\"df-640b4802-44c8-4eb8-9a8b-3e7628fcab42\" class=\"colab-df-container\">\n",
              "    <div>\n",
              "<style scoped>\n",
              "    .dataframe tbody tr th:only-of-type {\n",
              "        vertical-align: middle;\n",
              "    }\n",
              "\n",
              "    .dataframe tbody tr th {\n",
              "        vertical-align: top;\n",
              "    }\n",
              "\n",
              "    .dataframe thead th {\n",
              "        text-align: right;\n",
              "    }\n",
              "</style>\n",
              "<table border=\"1\" class=\"dataframe\">\n",
              "  <thead>\n",
              "    <tr style=\"text-align: right;\">\n",
              "      <th></th>\n",
              "      <th>id</th>\n",
              "      <th>usage_class</th>\n",
              "      <th>checkout_type</th>\n",
              "      <th>checkout_year</th>\n",
              "      <th>checkout_month</th>\n",
              "      <th>checkouts</th>\n",
              "      <th>title</th>\n",
              "      <th>creator</th>\n",
              "      <th>subjects</th>\n",
              "      <th>publisher</th>\n",
              "      <th>publication_year</th>\n",
              "      <th>material_type</th>\n",
              "    </tr>\n",
              "  </thead>\n",
              "  <tbody>\n",
              "    <tr>\n",
              "      <th>0</th>\n",
              "      <td>1</td>\n",
              "      <td>Physical</td>\n",
              "      <td>Horizon</td>\n",
              "      <td>2005</td>\n",
              "      <td>4</td>\n",
              "      <td>1</td>\n",
              "      <td>Tidal wave</td>\n",
              "      <td>0</td>\n",
              "      <td>Tsunamis, Tsunamis Juvenile literature</td>\n",
              "      <td>0</td>\n",
              "      <td>0</td>\n",
              "      <td>0</td>\n",
              "    </tr>\n",
              "    <tr>\n",
              "      <th>1</th>\n",
              "      <td>2</td>\n",
              "      <td>Physical</td>\n",
              "      <td>Horizon</td>\n",
              "      <td>2005</td>\n",
              "      <td>4</td>\n",
              "      <td>1</td>\n",
              "      <td>London holiday / Richard Peck.</td>\n",
              "      <td>Peck, Richard, 1934-</td>\n",
              "      <td>0</td>\n",
              "      <td>Viking,</td>\n",
              "      <td>1998.</td>\n",
              "      <td>0</td>\n",
              "    </tr>\n",
              "  </tbody>\n",
              "</table>\n",
              "</div>\n",
              "    <div class=\"colab-df-buttons\">\n",
              "\n",
              "  <div class=\"colab-df-container\">\n",
              "    <button class=\"colab-df-convert\" onclick=\"convertToInteractive('df-640b4802-44c8-4eb8-9a8b-3e7628fcab42')\"\n",
              "            title=\"Convert this dataframe to an interactive table.\"\n",
              "            style=\"display:none;\">\n",
              "\n",
              "  <svg xmlns=\"http://www.w3.org/2000/svg\" height=\"24px\" viewBox=\"0 -960 960 960\">\n",
              "    <path d=\"M120-120v-720h720v720H120Zm60-500h600v-160H180v160Zm220 220h160v-160H400v160Zm0 220h160v-160H400v160ZM180-400h160v-160H180v160Zm440 0h160v-160H620v160ZM180-180h160v-160H180v160Zm440 0h160v-160H620v160Z\"/>\n",
              "  </svg>\n",
              "    </button>\n",
              "\n",
              "  <style>\n",
              "    .colab-df-container {\n",
              "      display:flex;\n",
              "      gap: 12px;\n",
              "    }\n",
              "\n",
              "    .colab-df-convert {\n",
              "      background-color: #E8F0FE;\n",
              "      border: none;\n",
              "      border-radius: 50%;\n",
              "      cursor: pointer;\n",
              "      display: none;\n",
              "      fill: #1967D2;\n",
              "      height: 32px;\n",
              "      padding: 0 0 0 0;\n",
              "      width: 32px;\n",
              "    }\n",
              "\n",
              "    .colab-df-convert:hover {\n",
              "      background-color: #E2EBFA;\n",
              "      box-shadow: 0px 1px 2px rgba(60, 64, 67, 0.3), 0px 1px 3px 1px rgba(60, 64, 67, 0.15);\n",
              "      fill: #174EA6;\n",
              "    }\n",
              "\n",
              "    .colab-df-buttons div {\n",
              "      margin-bottom: 4px;\n",
              "    }\n",
              "\n",
              "    [theme=dark] .colab-df-convert {\n",
              "      background-color: #3B4455;\n",
              "      fill: #D2E3FC;\n",
              "    }\n",
              "\n",
              "    [theme=dark] .colab-df-convert:hover {\n",
              "      background-color: #434B5C;\n",
              "      box-shadow: 0px 1px 3px 1px rgba(0, 0, 0, 0.15);\n",
              "      filter: drop-shadow(0px 1px 2px rgba(0, 0, 0, 0.3));\n",
              "      fill: #FFFFFF;\n",
              "    }\n",
              "  </style>\n",
              "\n",
              "    <script>\n",
              "      const buttonEl =\n",
              "        document.querySelector('#df-640b4802-44c8-4eb8-9a8b-3e7628fcab42 button.colab-df-convert');\n",
              "      buttonEl.style.display =\n",
              "        google.colab.kernel.accessAllowed ? 'block' : 'none';\n",
              "\n",
              "      async function convertToInteractive(key) {\n",
              "        const element = document.querySelector('#df-640b4802-44c8-4eb8-9a8b-3e7628fcab42');\n",
              "        const dataTable =\n",
              "          await google.colab.kernel.invokeFunction('convertToInteractive',\n",
              "                                                    [key], {});\n",
              "        if (!dataTable) return;\n",
              "\n",
              "        const docLinkHtml = 'Like what you see? Visit the ' +\n",
              "          '<a target=\"_blank\" href=https://colab.research.google.com/notebooks/data_table.ipynb>data table notebook</a>'\n",
              "          + ' to learn more about interactive tables.';\n",
              "        element.innerHTML = '';\n",
              "        dataTable['output_type'] = 'display_data';\n",
              "        await google.colab.output.renderOutput(dataTable, element);\n",
              "        const docLink = document.createElement('div');\n",
              "        docLink.innerHTML = docLinkHtml;\n",
              "        element.appendChild(docLink);\n",
              "      }\n",
              "    </script>\n",
              "  </div>\n",
              "\n",
              "\n",
              "<div id=\"df-ed54ead2-9168-4491-b001-b1c180fc3d7f\">\n",
              "  <button class=\"colab-df-quickchart\" onclick=\"quickchart('df-ed54ead2-9168-4491-b001-b1c180fc3d7f')\"\n",
              "            title=\"Suggest charts\"\n",
              "            style=\"display:none;\">\n",
              "\n",
              "<svg xmlns=\"http://www.w3.org/2000/svg\" height=\"24px\"viewBox=\"0 0 24 24\"\n",
              "     width=\"24px\">\n",
              "    <g>\n",
              "        <path d=\"M19 3H5c-1.1 0-2 .9-2 2v14c0 1.1.9 2 2 2h14c1.1 0 2-.9 2-2V5c0-1.1-.9-2-2-2zM9 17H7v-7h2v7zm4 0h-2V7h2v10zm4 0h-2v-4h2v4z\"/>\n",
              "    </g>\n",
              "</svg>\n",
              "  </button>\n",
              "\n",
              "<style>\n",
              "  .colab-df-quickchart {\n",
              "      --bg-color: #E8F0FE;\n",
              "      --fill-color: #1967D2;\n",
              "      --hover-bg-color: #E2EBFA;\n",
              "      --hover-fill-color: #174EA6;\n",
              "      --disabled-fill-color: #AAA;\n",
              "      --disabled-bg-color: #DDD;\n",
              "  }\n",
              "\n",
              "  [theme=dark] .colab-df-quickchart {\n",
              "      --bg-color: #3B4455;\n",
              "      --fill-color: #D2E3FC;\n",
              "      --hover-bg-color: #434B5C;\n",
              "      --hover-fill-color: #FFFFFF;\n",
              "      --disabled-bg-color: #3B4455;\n",
              "      --disabled-fill-color: #666;\n",
              "  }\n",
              "\n",
              "  .colab-df-quickchart {\n",
              "    background-color: var(--bg-color);\n",
              "    border: none;\n",
              "    border-radius: 50%;\n",
              "    cursor: pointer;\n",
              "    display: none;\n",
              "    fill: var(--fill-color);\n",
              "    height: 32px;\n",
              "    padding: 0;\n",
              "    width: 32px;\n",
              "  }\n",
              "\n",
              "  .colab-df-quickchart:hover {\n",
              "    background-color: var(--hover-bg-color);\n",
              "    box-shadow: 0 1px 2px rgba(60, 64, 67, 0.3), 0 1px 3px 1px rgba(60, 64, 67, 0.15);\n",
              "    fill: var(--button-hover-fill-color);\n",
              "  }\n",
              "\n",
              "  .colab-df-quickchart-complete:disabled,\n",
              "  .colab-df-quickchart-complete:disabled:hover {\n",
              "    background-color: var(--disabled-bg-color);\n",
              "    fill: var(--disabled-fill-color);\n",
              "    box-shadow: none;\n",
              "  }\n",
              "\n",
              "  .colab-df-spinner {\n",
              "    border: 2px solid var(--fill-color);\n",
              "    border-color: transparent;\n",
              "    border-bottom-color: var(--fill-color);\n",
              "    animation:\n",
              "      spin 1s steps(1) infinite;\n",
              "  }\n",
              "\n",
              "  @keyframes spin {\n",
              "    0% {\n",
              "      border-color: transparent;\n",
              "      border-bottom-color: var(--fill-color);\n",
              "      border-left-color: var(--fill-color);\n",
              "    }\n",
              "    20% {\n",
              "      border-color: transparent;\n",
              "      border-left-color: var(--fill-color);\n",
              "      border-top-color: var(--fill-color);\n",
              "    }\n",
              "    30% {\n",
              "      border-color: transparent;\n",
              "      border-left-color: var(--fill-color);\n",
              "      border-top-color: var(--fill-color);\n",
              "      border-right-color: var(--fill-color);\n",
              "    }\n",
              "    40% {\n",
              "      border-color: transparent;\n",
              "      border-right-color: var(--fill-color);\n",
              "      border-top-color: var(--fill-color);\n",
              "    }\n",
              "    60% {\n",
              "      border-color: transparent;\n",
              "      border-right-color: var(--fill-color);\n",
              "    }\n",
              "    80% {\n",
              "      border-color: transparent;\n",
              "      border-right-color: var(--fill-color);\n",
              "      border-bottom-color: var(--fill-color);\n",
              "    }\n",
              "    90% {\n",
              "      border-color: transparent;\n",
              "      border-bottom-color: var(--fill-color);\n",
              "    }\n",
              "  }\n",
              "</style>\n",
              "\n",
              "  <script>\n",
              "    async function quickchart(key) {\n",
              "      const quickchartButtonEl =\n",
              "        document.querySelector('#' + key + ' button');\n",
              "      quickchartButtonEl.disabled = true;  // To prevent multiple clicks.\n",
              "      quickchartButtonEl.classList.add('colab-df-spinner');\n",
              "      try {\n",
              "        const charts = await google.colab.kernel.invokeFunction(\n",
              "            'suggestCharts', [key], {});\n",
              "      } catch (error) {\n",
              "        console.error('Error during call to suggestCharts:', error);\n",
              "      }\n",
              "      quickchartButtonEl.classList.remove('colab-df-spinner');\n",
              "      quickchartButtonEl.classList.add('colab-df-quickchart-complete');\n",
              "    }\n",
              "    (() => {\n",
              "      let quickchartButtonEl =\n",
              "        document.querySelector('#df-ed54ead2-9168-4491-b001-b1c180fc3d7f button');\n",
              "      quickchartButtonEl.style.display =\n",
              "        google.colab.kernel.accessAllowed ? 'block' : 'none';\n",
              "    })();\n",
              "  </script>\n",
              "</div>\n",
              "\n",
              "    </div>\n",
              "  </div>\n"
            ]
          },
          "metadata": {},
          "execution_count": 146
        }
      ]
    },
    {
      "cell_type": "code",
      "source": [
        "train_data[\"usage_class\"] = train_data[\"usage_class\"].astype('category').cat.codes\n",
        "test_data[\"usage_class\"] = test_data[\"usage_class\"].astype('category').cat.codes\n",
        "train_data[\"checkout_type\"] = train_data[\"checkout_type\"].astype('category').cat.codes\n",
        "test_data[\"checkout_type\"] = test_data[\"checkout_type\"].astype('category').cat.codes\n"
      ],
      "metadata": {
        "id": "_EDPHnm6mzZk"
      },
      "execution_count": 147,
      "outputs": []
    },
    {
      "cell_type": "code",
      "source": [
        "train_data.dtypes"
      ],
      "metadata": {
        "colab": {
          "base_uri": "https://localhost:8080/",
          "height": 0
        },
        "id": "LcyOnuKSneSV",
        "outputId": "92d8c195-b396-465f-fcb1-f1b478538b90"
      },
      "execution_count": 148,
      "outputs": [
        {
          "output_type": "execute_result",
          "data": {
            "text/plain": [
              "id                     int16\n",
              "usage_class             int8\n",
              "checkout_type           int8\n",
              "checkout_year          int16\n",
              "checkout_month          int8\n",
              "checkouts               int8\n",
              "title                 string\n",
              "creator               object\n",
              "subjects              object\n",
              "publisher             object\n",
              "publication_year    category\n",
              "material_type           int8\n",
              "dtype: object"
            ]
          },
          "metadata": {},
          "execution_count": 148
        }
      ]
    },
    {
      "cell_type": "code",
      "source": [
        "train_data.head(3)"
      ],
      "metadata": {
        "colab": {
          "base_uri": "https://localhost:8080/",
          "height": 354
        },
        "id": "_UaIZ8s4G9Jc",
        "outputId": "ab4cf652-1983-46b1-8498-16951bca30e1"
      },
      "execution_count": 149,
      "outputs": [
        {
          "output_type": "execute_result",
          "data": {
            "text/plain": [
              "   id  usage_class  checkout_type  checkout_year  checkout_month  checkouts  \\\n",
              "0   1            0              0           2005               4          1   \n",
              "1   2            0              0           2005               4          1   \n",
              "2   3            0              0           2005               4          3   \n",
              "\n",
              "                                               title               creator  \\\n",
              "0                                         Tidal wave                     0   \n",
              "1                     London holiday / Richard Peck.  Peck, Richard, 1934-   \n",
              "2  Cinco de Mayo : celebrating Hispanic pride / C...      Gnojewski, Carol   \n",
              "\n",
              "                                            subjects           publisher  \\\n",
              "0             Tsunamis, Tsunamis Juvenile literature                   0   \n",
              "1                                                  0             Viking,   \n",
              "2  Cinco de Mayo Mexican holiday History Juvenile...  Enslow Publishers,   \n",
              "\n",
              "  publication_year  material_type  \n",
              "0                0              0  \n",
              "1            1998.              0  \n",
              "2           c2002.              0  "
            ],
            "text/html": [
              "\n",
              "  <div id=\"df-1000b71f-9311-45f5-b19b-b7fceda06cf3\" class=\"colab-df-container\">\n",
              "    <div>\n",
              "<style scoped>\n",
              "    .dataframe tbody tr th:only-of-type {\n",
              "        vertical-align: middle;\n",
              "    }\n",
              "\n",
              "    .dataframe tbody tr th {\n",
              "        vertical-align: top;\n",
              "    }\n",
              "\n",
              "    .dataframe thead th {\n",
              "        text-align: right;\n",
              "    }\n",
              "</style>\n",
              "<table border=\"1\" class=\"dataframe\">\n",
              "  <thead>\n",
              "    <tr style=\"text-align: right;\">\n",
              "      <th></th>\n",
              "      <th>id</th>\n",
              "      <th>usage_class</th>\n",
              "      <th>checkout_type</th>\n",
              "      <th>checkout_year</th>\n",
              "      <th>checkout_month</th>\n",
              "      <th>checkouts</th>\n",
              "      <th>title</th>\n",
              "      <th>creator</th>\n",
              "      <th>subjects</th>\n",
              "      <th>publisher</th>\n",
              "      <th>publication_year</th>\n",
              "      <th>material_type</th>\n",
              "    </tr>\n",
              "  </thead>\n",
              "  <tbody>\n",
              "    <tr>\n",
              "      <th>0</th>\n",
              "      <td>1</td>\n",
              "      <td>0</td>\n",
              "      <td>0</td>\n",
              "      <td>2005</td>\n",
              "      <td>4</td>\n",
              "      <td>1</td>\n",
              "      <td>Tidal wave</td>\n",
              "      <td>0</td>\n",
              "      <td>Tsunamis, Tsunamis Juvenile literature</td>\n",
              "      <td>0</td>\n",
              "      <td>0</td>\n",
              "      <td>0</td>\n",
              "    </tr>\n",
              "    <tr>\n",
              "      <th>1</th>\n",
              "      <td>2</td>\n",
              "      <td>0</td>\n",
              "      <td>0</td>\n",
              "      <td>2005</td>\n",
              "      <td>4</td>\n",
              "      <td>1</td>\n",
              "      <td>London holiday / Richard Peck.</td>\n",
              "      <td>Peck, Richard, 1934-</td>\n",
              "      <td>0</td>\n",
              "      <td>Viking,</td>\n",
              "      <td>1998.</td>\n",
              "      <td>0</td>\n",
              "    </tr>\n",
              "    <tr>\n",
              "      <th>2</th>\n",
              "      <td>3</td>\n",
              "      <td>0</td>\n",
              "      <td>0</td>\n",
              "      <td>2005</td>\n",
              "      <td>4</td>\n",
              "      <td>3</td>\n",
              "      <td>Cinco de Mayo : celebrating Hispanic pride / C...</td>\n",
              "      <td>Gnojewski, Carol</td>\n",
              "      <td>Cinco de Mayo Mexican holiday History Juvenile...</td>\n",
              "      <td>Enslow Publishers,</td>\n",
              "      <td>c2002.</td>\n",
              "      <td>0</td>\n",
              "    </tr>\n",
              "  </tbody>\n",
              "</table>\n",
              "</div>\n",
              "    <div class=\"colab-df-buttons\">\n",
              "\n",
              "  <div class=\"colab-df-container\">\n",
              "    <button class=\"colab-df-convert\" onclick=\"convertToInteractive('df-1000b71f-9311-45f5-b19b-b7fceda06cf3')\"\n",
              "            title=\"Convert this dataframe to an interactive table.\"\n",
              "            style=\"display:none;\">\n",
              "\n",
              "  <svg xmlns=\"http://www.w3.org/2000/svg\" height=\"24px\" viewBox=\"0 -960 960 960\">\n",
              "    <path d=\"M120-120v-720h720v720H120Zm60-500h600v-160H180v160Zm220 220h160v-160H400v160Zm0 220h160v-160H400v160ZM180-400h160v-160H180v160Zm440 0h160v-160H620v160ZM180-180h160v-160H180v160Zm440 0h160v-160H620v160Z\"/>\n",
              "  </svg>\n",
              "    </button>\n",
              "\n",
              "  <style>\n",
              "    .colab-df-container {\n",
              "      display:flex;\n",
              "      gap: 12px;\n",
              "    }\n",
              "\n",
              "    .colab-df-convert {\n",
              "      background-color: #E8F0FE;\n",
              "      border: none;\n",
              "      border-radius: 50%;\n",
              "      cursor: pointer;\n",
              "      display: none;\n",
              "      fill: #1967D2;\n",
              "      height: 32px;\n",
              "      padding: 0 0 0 0;\n",
              "      width: 32px;\n",
              "    }\n",
              "\n",
              "    .colab-df-convert:hover {\n",
              "      background-color: #E2EBFA;\n",
              "      box-shadow: 0px 1px 2px rgba(60, 64, 67, 0.3), 0px 1px 3px 1px rgba(60, 64, 67, 0.15);\n",
              "      fill: #174EA6;\n",
              "    }\n",
              "\n",
              "    .colab-df-buttons div {\n",
              "      margin-bottom: 4px;\n",
              "    }\n",
              "\n",
              "    [theme=dark] .colab-df-convert {\n",
              "      background-color: #3B4455;\n",
              "      fill: #D2E3FC;\n",
              "    }\n",
              "\n",
              "    [theme=dark] .colab-df-convert:hover {\n",
              "      background-color: #434B5C;\n",
              "      box-shadow: 0px 1px 3px 1px rgba(0, 0, 0, 0.15);\n",
              "      filter: drop-shadow(0px 1px 2px rgba(0, 0, 0, 0.3));\n",
              "      fill: #FFFFFF;\n",
              "    }\n",
              "  </style>\n",
              "\n",
              "    <script>\n",
              "      const buttonEl =\n",
              "        document.querySelector('#df-1000b71f-9311-45f5-b19b-b7fceda06cf3 button.colab-df-convert');\n",
              "      buttonEl.style.display =\n",
              "        google.colab.kernel.accessAllowed ? 'block' : 'none';\n",
              "\n",
              "      async function convertToInteractive(key) {\n",
              "        const element = document.querySelector('#df-1000b71f-9311-45f5-b19b-b7fceda06cf3');\n",
              "        const dataTable =\n",
              "          await google.colab.kernel.invokeFunction('convertToInteractive',\n",
              "                                                    [key], {});\n",
              "        if (!dataTable) return;\n",
              "\n",
              "        const docLinkHtml = 'Like what you see? Visit the ' +\n",
              "          '<a target=\"_blank\" href=https://colab.research.google.com/notebooks/data_table.ipynb>data table notebook</a>'\n",
              "          + ' to learn more about interactive tables.';\n",
              "        element.innerHTML = '';\n",
              "        dataTable['output_type'] = 'display_data';\n",
              "        await google.colab.output.renderOutput(dataTable, element);\n",
              "        const docLink = document.createElement('div');\n",
              "        docLink.innerHTML = docLinkHtml;\n",
              "        element.appendChild(docLink);\n",
              "      }\n",
              "    </script>\n",
              "  </div>\n",
              "\n",
              "\n",
              "<div id=\"df-0179af9e-f2a9-4dbb-91f1-db109aceb7dc\">\n",
              "  <button class=\"colab-df-quickchart\" onclick=\"quickchart('df-0179af9e-f2a9-4dbb-91f1-db109aceb7dc')\"\n",
              "            title=\"Suggest charts\"\n",
              "            style=\"display:none;\">\n",
              "\n",
              "<svg xmlns=\"http://www.w3.org/2000/svg\" height=\"24px\"viewBox=\"0 0 24 24\"\n",
              "     width=\"24px\">\n",
              "    <g>\n",
              "        <path d=\"M19 3H5c-1.1 0-2 .9-2 2v14c0 1.1.9 2 2 2h14c1.1 0 2-.9 2-2V5c0-1.1-.9-2-2-2zM9 17H7v-7h2v7zm4 0h-2V7h2v10zm4 0h-2v-4h2v4z\"/>\n",
              "    </g>\n",
              "</svg>\n",
              "  </button>\n",
              "\n",
              "<style>\n",
              "  .colab-df-quickchart {\n",
              "      --bg-color: #E8F0FE;\n",
              "      --fill-color: #1967D2;\n",
              "      --hover-bg-color: #E2EBFA;\n",
              "      --hover-fill-color: #174EA6;\n",
              "      --disabled-fill-color: #AAA;\n",
              "      --disabled-bg-color: #DDD;\n",
              "  }\n",
              "\n",
              "  [theme=dark] .colab-df-quickchart {\n",
              "      --bg-color: #3B4455;\n",
              "      --fill-color: #D2E3FC;\n",
              "      --hover-bg-color: #434B5C;\n",
              "      --hover-fill-color: #FFFFFF;\n",
              "      --disabled-bg-color: #3B4455;\n",
              "      --disabled-fill-color: #666;\n",
              "  }\n",
              "\n",
              "  .colab-df-quickchart {\n",
              "    background-color: var(--bg-color);\n",
              "    border: none;\n",
              "    border-radius: 50%;\n",
              "    cursor: pointer;\n",
              "    display: none;\n",
              "    fill: var(--fill-color);\n",
              "    height: 32px;\n",
              "    padding: 0;\n",
              "    width: 32px;\n",
              "  }\n",
              "\n",
              "  .colab-df-quickchart:hover {\n",
              "    background-color: var(--hover-bg-color);\n",
              "    box-shadow: 0 1px 2px rgba(60, 64, 67, 0.3), 0 1px 3px 1px rgba(60, 64, 67, 0.15);\n",
              "    fill: var(--button-hover-fill-color);\n",
              "  }\n",
              "\n",
              "  .colab-df-quickchart-complete:disabled,\n",
              "  .colab-df-quickchart-complete:disabled:hover {\n",
              "    background-color: var(--disabled-bg-color);\n",
              "    fill: var(--disabled-fill-color);\n",
              "    box-shadow: none;\n",
              "  }\n",
              "\n",
              "  .colab-df-spinner {\n",
              "    border: 2px solid var(--fill-color);\n",
              "    border-color: transparent;\n",
              "    border-bottom-color: var(--fill-color);\n",
              "    animation:\n",
              "      spin 1s steps(1) infinite;\n",
              "  }\n",
              "\n",
              "  @keyframes spin {\n",
              "    0% {\n",
              "      border-color: transparent;\n",
              "      border-bottom-color: var(--fill-color);\n",
              "      border-left-color: var(--fill-color);\n",
              "    }\n",
              "    20% {\n",
              "      border-color: transparent;\n",
              "      border-left-color: var(--fill-color);\n",
              "      border-top-color: var(--fill-color);\n",
              "    }\n",
              "    30% {\n",
              "      border-color: transparent;\n",
              "      border-left-color: var(--fill-color);\n",
              "      border-top-color: var(--fill-color);\n",
              "      border-right-color: var(--fill-color);\n",
              "    }\n",
              "    40% {\n",
              "      border-color: transparent;\n",
              "      border-right-color: var(--fill-color);\n",
              "      border-top-color: var(--fill-color);\n",
              "    }\n",
              "    60% {\n",
              "      border-color: transparent;\n",
              "      border-right-color: var(--fill-color);\n",
              "    }\n",
              "    80% {\n",
              "      border-color: transparent;\n",
              "      border-right-color: var(--fill-color);\n",
              "      border-bottom-color: var(--fill-color);\n",
              "    }\n",
              "    90% {\n",
              "      border-color: transparent;\n",
              "      border-bottom-color: var(--fill-color);\n",
              "    }\n",
              "  }\n",
              "</style>\n",
              "\n",
              "  <script>\n",
              "    async function quickchart(key) {\n",
              "      const quickchartButtonEl =\n",
              "        document.querySelector('#' + key + ' button');\n",
              "      quickchartButtonEl.disabled = true;  // To prevent multiple clicks.\n",
              "      quickchartButtonEl.classList.add('colab-df-spinner');\n",
              "      try {\n",
              "        const charts = await google.colab.kernel.invokeFunction(\n",
              "            'suggestCharts', [key], {});\n",
              "      } catch (error) {\n",
              "        console.error('Error during call to suggestCharts:', error);\n",
              "      }\n",
              "      quickchartButtonEl.classList.remove('colab-df-spinner');\n",
              "      quickchartButtonEl.classList.add('colab-df-quickchart-complete');\n",
              "    }\n",
              "    (() => {\n",
              "      let quickchartButtonEl =\n",
              "        document.querySelector('#df-0179af9e-f2a9-4dbb-91f1-db109aceb7dc button');\n",
              "      quickchartButtonEl.style.display =\n",
              "        google.colab.kernel.accessAllowed ? 'block' : 'none';\n",
              "    })();\n",
              "  </script>\n",
              "</div>\n",
              "\n",
              "    </div>\n",
              "  </div>\n"
            ]
          },
          "metadata": {},
          "execution_count": 149
        }
      ]
    },
    {
      "cell_type": "code",
      "source": [
        "import re\n",
        "def publication_year(s):\n",
        "    '''\n",
        "    '''\n",
        "    k = re.findall(r'\\d{4}', s)\n",
        "    if len(k) != 0:\n",
        "        try:\n",
        "            k = sorted(k)[0]\n",
        "            k = (pd.to_datetime('now').year - pd.to_datetime(k, format = '%Y').year)\n",
        "        except:\n",
        "            k = pd.period_range(start = k, end = '1678', freq = 'Y')\n",
        "            k = len(k)\n",
        "            k = (pd.to_datetime('now').year - pd.to_datetime('1678', format = '%Y').year + k)\n",
        "    else:\n",
        "        k = 0\n",
        "    return k###train_data['publication_year'][:100]"
      ],
      "metadata": {
        "id": "bhDL8oDG1taq"
      },
      "execution_count": 150,
      "outputs": []
    },
    {
      "cell_type": "code",
      "source": [
        "train_data[\"publication_year\"] = train_data[\"publication_year\"].astype(str)"
      ],
      "metadata": {
        "id": "RQAK24zgGgXD"
      },
      "execution_count": 151,
      "outputs": []
    },
    {
      "cell_type": "code",
      "source": [
        "train_data[\"publication_year\"] = train_data[\"publication_year\"].apply(publication_year)"
      ],
      "metadata": {
        "id": "bExo05Mgy7Ob"
      },
      "execution_count": 152,
      "outputs": []
    },
    {
      "cell_type": "code",
      "source": [
        "test_data[\"publication_year\"] = test_data[\"publication_year\"].astype(str)\n",
        "test_data[\"publication_year\"] = test_data[\"publication_year\"].apply(publication_year)"
      ],
      "metadata": {
        "id": "M_iAO4DTHT9j"
      },
      "execution_count": 153,
      "outputs": []
    },
    {
      "cell_type": "code",
      "source": [
        "train_data.head(2)"
      ],
      "metadata": {
        "colab": {
          "base_uri": "https://localhost:8080/",
          "height": 254
        },
        "id": "r4hsvsL_HaqY",
        "outputId": "7deedb6b-48d2-4e52-e5cd-ef8fcfd7c7eb"
      },
      "execution_count": 154,
      "outputs": [
        {
          "output_type": "execute_result",
          "data": {
            "text/plain": [
              "   id  usage_class  checkout_type  checkout_year  checkout_month  checkouts  \\\n",
              "0   1            0              0           2005               4          1   \n",
              "1   2            0              0           2005               4          1   \n",
              "\n",
              "                            title               creator  \\\n",
              "0                      Tidal wave                     0   \n",
              "1  London holiday / Richard Peck.  Peck, Richard, 1934-   \n",
              "\n",
              "                                 subjects publisher  publication_year  \\\n",
              "0  Tsunamis, Tsunamis Juvenile literature         0                 0   \n",
              "1                                       0   Viking,                25   \n",
              "\n",
              "   material_type  \n",
              "0              0  \n",
              "1              0  "
            ],
            "text/html": [
              "\n",
              "  <div id=\"df-ee7da86e-5934-49e2-82c4-7050fe4ed4ac\" class=\"colab-df-container\">\n",
              "    <div>\n",
              "<style scoped>\n",
              "    .dataframe tbody tr th:only-of-type {\n",
              "        vertical-align: middle;\n",
              "    }\n",
              "\n",
              "    .dataframe tbody tr th {\n",
              "        vertical-align: top;\n",
              "    }\n",
              "\n",
              "    .dataframe thead th {\n",
              "        text-align: right;\n",
              "    }\n",
              "</style>\n",
              "<table border=\"1\" class=\"dataframe\">\n",
              "  <thead>\n",
              "    <tr style=\"text-align: right;\">\n",
              "      <th></th>\n",
              "      <th>id</th>\n",
              "      <th>usage_class</th>\n",
              "      <th>checkout_type</th>\n",
              "      <th>checkout_year</th>\n",
              "      <th>checkout_month</th>\n",
              "      <th>checkouts</th>\n",
              "      <th>title</th>\n",
              "      <th>creator</th>\n",
              "      <th>subjects</th>\n",
              "      <th>publisher</th>\n",
              "      <th>publication_year</th>\n",
              "      <th>material_type</th>\n",
              "    </tr>\n",
              "  </thead>\n",
              "  <tbody>\n",
              "    <tr>\n",
              "      <th>0</th>\n",
              "      <td>1</td>\n",
              "      <td>0</td>\n",
              "      <td>0</td>\n",
              "      <td>2005</td>\n",
              "      <td>4</td>\n",
              "      <td>1</td>\n",
              "      <td>Tidal wave</td>\n",
              "      <td>0</td>\n",
              "      <td>Tsunamis, Tsunamis Juvenile literature</td>\n",
              "      <td>0</td>\n",
              "      <td>0</td>\n",
              "      <td>0</td>\n",
              "    </tr>\n",
              "    <tr>\n",
              "      <th>1</th>\n",
              "      <td>2</td>\n",
              "      <td>0</td>\n",
              "      <td>0</td>\n",
              "      <td>2005</td>\n",
              "      <td>4</td>\n",
              "      <td>1</td>\n",
              "      <td>London holiday / Richard Peck.</td>\n",
              "      <td>Peck, Richard, 1934-</td>\n",
              "      <td>0</td>\n",
              "      <td>Viking,</td>\n",
              "      <td>25</td>\n",
              "      <td>0</td>\n",
              "    </tr>\n",
              "  </tbody>\n",
              "</table>\n",
              "</div>\n",
              "    <div class=\"colab-df-buttons\">\n",
              "\n",
              "  <div class=\"colab-df-container\">\n",
              "    <button class=\"colab-df-convert\" onclick=\"convertToInteractive('df-ee7da86e-5934-49e2-82c4-7050fe4ed4ac')\"\n",
              "            title=\"Convert this dataframe to an interactive table.\"\n",
              "            style=\"display:none;\">\n",
              "\n",
              "  <svg xmlns=\"http://www.w3.org/2000/svg\" height=\"24px\" viewBox=\"0 -960 960 960\">\n",
              "    <path d=\"M120-120v-720h720v720H120Zm60-500h600v-160H180v160Zm220 220h160v-160H400v160Zm0 220h160v-160H400v160ZM180-400h160v-160H180v160Zm440 0h160v-160H620v160ZM180-180h160v-160H180v160Zm440 0h160v-160H620v160Z\"/>\n",
              "  </svg>\n",
              "    </button>\n",
              "\n",
              "  <style>\n",
              "    .colab-df-container {\n",
              "      display:flex;\n",
              "      gap: 12px;\n",
              "    }\n",
              "\n",
              "    .colab-df-convert {\n",
              "      background-color: #E8F0FE;\n",
              "      border: none;\n",
              "      border-radius: 50%;\n",
              "      cursor: pointer;\n",
              "      display: none;\n",
              "      fill: #1967D2;\n",
              "      height: 32px;\n",
              "      padding: 0 0 0 0;\n",
              "      width: 32px;\n",
              "    }\n",
              "\n",
              "    .colab-df-convert:hover {\n",
              "      background-color: #E2EBFA;\n",
              "      box-shadow: 0px 1px 2px rgba(60, 64, 67, 0.3), 0px 1px 3px 1px rgba(60, 64, 67, 0.15);\n",
              "      fill: #174EA6;\n",
              "    }\n",
              "\n",
              "    .colab-df-buttons div {\n",
              "      margin-bottom: 4px;\n",
              "    }\n",
              "\n",
              "    [theme=dark] .colab-df-convert {\n",
              "      background-color: #3B4455;\n",
              "      fill: #D2E3FC;\n",
              "    }\n",
              "\n",
              "    [theme=dark] .colab-df-convert:hover {\n",
              "      background-color: #434B5C;\n",
              "      box-shadow: 0px 1px 3px 1px rgba(0, 0, 0, 0.15);\n",
              "      filter: drop-shadow(0px 1px 2px rgba(0, 0, 0, 0.3));\n",
              "      fill: #FFFFFF;\n",
              "    }\n",
              "  </style>\n",
              "\n",
              "    <script>\n",
              "      const buttonEl =\n",
              "        document.querySelector('#df-ee7da86e-5934-49e2-82c4-7050fe4ed4ac button.colab-df-convert');\n",
              "      buttonEl.style.display =\n",
              "        google.colab.kernel.accessAllowed ? 'block' : 'none';\n",
              "\n",
              "      async function convertToInteractive(key) {\n",
              "        const element = document.querySelector('#df-ee7da86e-5934-49e2-82c4-7050fe4ed4ac');\n",
              "        const dataTable =\n",
              "          await google.colab.kernel.invokeFunction('convertToInteractive',\n",
              "                                                    [key], {});\n",
              "        if (!dataTable) return;\n",
              "\n",
              "        const docLinkHtml = 'Like what you see? Visit the ' +\n",
              "          '<a target=\"_blank\" href=https://colab.research.google.com/notebooks/data_table.ipynb>data table notebook</a>'\n",
              "          + ' to learn more about interactive tables.';\n",
              "        element.innerHTML = '';\n",
              "        dataTable['output_type'] = 'display_data';\n",
              "        await google.colab.output.renderOutput(dataTable, element);\n",
              "        const docLink = document.createElement('div');\n",
              "        docLink.innerHTML = docLinkHtml;\n",
              "        element.appendChild(docLink);\n",
              "      }\n",
              "    </script>\n",
              "  </div>\n",
              "\n",
              "\n",
              "<div id=\"df-a04ae7d7-f323-4e9e-8483-75ee84263893\">\n",
              "  <button class=\"colab-df-quickchart\" onclick=\"quickchart('df-a04ae7d7-f323-4e9e-8483-75ee84263893')\"\n",
              "            title=\"Suggest charts\"\n",
              "            style=\"display:none;\">\n",
              "\n",
              "<svg xmlns=\"http://www.w3.org/2000/svg\" height=\"24px\"viewBox=\"0 0 24 24\"\n",
              "     width=\"24px\">\n",
              "    <g>\n",
              "        <path d=\"M19 3H5c-1.1 0-2 .9-2 2v14c0 1.1.9 2 2 2h14c1.1 0 2-.9 2-2V5c0-1.1-.9-2-2-2zM9 17H7v-7h2v7zm4 0h-2V7h2v10zm4 0h-2v-4h2v4z\"/>\n",
              "    </g>\n",
              "</svg>\n",
              "  </button>\n",
              "\n",
              "<style>\n",
              "  .colab-df-quickchart {\n",
              "      --bg-color: #E8F0FE;\n",
              "      --fill-color: #1967D2;\n",
              "      --hover-bg-color: #E2EBFA;\n",
              "      --hover-fill-color: #174EA6;\n",
              "      --disabled-fill-color: #AAA;\n",
              "      --disabled-bg-color: #DDD;\n",
              "  }\n",
              "\n",
              "  [theme=dark] .colab-df-quickchart {\n",
              "      --bg-color: #3B4455;\n",
              "      --fill-color: #D2E3FC;\n",
              "      --hover-bg-color: #434B5C;\n",
              "      --hover-fill-color: #FFFFFF;\n",
              "      --disabled-bg-color: #3B4455;\n",
              "      --disabled-fill-color: #666;\n",
              "  }\n",
              "\n",
              "  .colab-df-quickchart {\n",
              "    background-color: var(--bg-color);\n",
              "    border: none;\n",
              "    border-radius: 50%;\n",
              "    cursor: pointer;\n",
              "    display: none;\n",
              "    fill: var(--fill-color);\n",
              "    height: 32px;\n",
              "    padding: 0;\n",
              "    width: 32px;\n",
              "  }\n",
              "\n",
              "  .colab-df-quickchart:hover {\n",
              "    background-color: var(--hover-bg-color);\n",
              "    box-shadow: 0 1px 2px rgba(60, 64, 67, 0.3), 0 1px 3px 1px rgba(60, 64, 67, 0.15);\n",
              "    fill: var(--button-hover-fill-color);\n",
              "  }\n",
              "\n",
              "  .colab-df-quickchart-complete:disabled,\n",
              "  .colab-df-quickchart-complete:disabled:hover {\n",
              "    background-color: var(--disabled-bg-color);\n",
              "    fill: var(--disabled-fill-color);\n",
              "    box-shadow: none;\n",
              "  }\n",
              "\n",
              "  .colab-df-spinner {\n",
              "    border: 2px solid var(--fill-color);\n",
              "    border-color: transparent;\n",
              "    border-bottom-color: var(--fill-color);\n",
              "    animation:\n",
              "      spin 1s steps(1) infinite;\n",
              "  }\n",
              "\n",
              "  @keyframes spin {\n",
              "    0% {\n",
              "      border-color: transparent;\n",
              "      border-bottom-color: var(--fill-color);\n",
              "      border-left-color: var(--fill-color);\n",
              "    }\n",
              "    20% {\n",
              "      border-color: transparent;\n",
              "      border-left-color: var(--fill-color);\n",
              "      border-top-color: var(--fill-color);\n",
              "    }\n",
              "    30% {\n",
              "      border-color: transparent;\n",
              "      border-left-color: var(--fill-color);\n",
              "      border-top-color: var(--fill-color);\n",
              "      border-right-color: var(--fill-color);\n",
              "    }\n",
              "    40% {\n",
              "      border-color: transparent;\n",
              "      border-right-color: var(--fill-color);\n",
              "      border-top-color: var(--fill-color);\n",
              "    }\n",
              "    60% {\n",
              "      border-color: transparent;\n",
              "      border-right-color: var(--fill-color);\n",
              "    }\n",
              "    80% {\n",
              "      border-color: transparent;\n",
              "      border-right-color: var(--fill-color);\n",
              "      border-bottom-color: var(--fill-color);\n",
              "    }\n",
              "    90% {\n",
              "      border-color: transparent;\n",
              "      border-bottom-color: var(--fill-color);\n",
              "    }\n",
              "  }\n",
              "</style>\n",
              "\n",
              "  <script>\n",
              "    async function quickchart(key) {\n",
              "      const quickchartButtonEl =\n",
              "        document.querySelector('#' + key + ' button');\n",
              "      quickchartButtonEl.disabled = true;  // To prevent multiple clicks.\n",
              "      quickchartButtonEl.classList.add('colab-df-spinner');\n",
              "      try {\n",
              "        const charts = await google.colab.kernel.invokeFunction(\n",
              "            'suggestCharts', [key], {});\n",
              "      } catch (error) {\n",
              "        console.error('Error during call to suggestCharts:', error);\n",
              "      }\n",
              "      quickchartButtonEl.classList.remove('colab-df-spinner');\n",
              "      quickchartButtonEl.classList.add('colab-df-quickchart-complete');\n",
              "    }\n",
              "    (() => {\n",
              "      let quickchartButtonEl =\n",
              "        document.querySelector('#df-a04ae7d7-f323-4e9e-8483-75ee84263893 button');\n",
              "      quickchartButtonEl.style.display =\n",
              "        google.colab.kernel.accessAllowed ? 'block' : 'none';\n",
              "    })();\n",
              "  </script>\n",
              "</div>\n",
              "\n",
              "    </div>\n",
              "  </div>\n"
            ]
          },
          "metadata": {},
          "execution_count": 154
        }
      ]
    },
    {
      "cell_type": "code",
      "source": [
        "###!pip install textblob"
      ],
      "metadata": {
        "id": "OYYECAPoj150"
      },
      "execution_count": 155,
      "outputs": []
    },
    {
      "cell_type": "code",
      "source": [
        "####! pip install pickle"
      ],
      "metadata": {
        "id": "XCpFJm8eLgDa"
      },
      "execution_count": 156,
      "outputs": []
    },
    {
      "cell_type": "code",
      "source": [
        "import pandas, numpy, string, textblob\n",
        "import pickle\n",
        "from sklearn import model_selection, preprocessing, linear_model, naive_bayes, metrics, svm, decomposition, ensemble\n",
        "from sklearn.feature_extraction.text import TfidfVectorizer, CountVectorizer\n",
        "import xgboost\n",
        "from keras import layers, models, optimizers\n",
        "from keras.preprocessing import text, sequence\n",
        "import matplotlib.pyplot as plt"
      ],
      "metadata": {
        "id": "nRctAEr7LgJw"
      },
      "execution_count": 157,
      "outputs": []
    },
    {
      "cell_type": "code",
      "source": [
        "import string\n",
        "import re\n",
        "def clean_text(text):\n",
        "    '''Make text lowercase, remove text in square brackets,remove links,remove punctuation\n",
        "    and remove words containing numbers.'''\n",
        "    text = text.lower()\n",
        "    text = re.sub('\\[.*?\\]', '', text)\n",
        "    text = re.sub('https?://\\S+|www\\.\\S+', '', text)\n",
        "    text = re.sub('<.*?>+', '', text)\n",
        "    text = re.sub('[%s]' % re.escape(string.punctuation), '', text)\n",
        "    text = re.sub('\\n', '', text)\n",
        "    text = re.sub('\\d+', '', text)\n",
        "    text = re.sub('\\w*\\d\\w*', '', text)\n",
        "    return text"
      ],
      "metadata": {
        "id": "fx6OyqN3Lga-"
      },
      "execution_count": 158,
      "outputs": []
    },
    {
      "cell_type": "code",
      "source": [
        "train_data.columns"
      ],
      "metadata": {
        "colab": {
          "base_uri": "https://localhost:8080/",
          "height": 0
        },
        "id": "i7RPeRqkMrdc",
        "outputId": "9143036b-870a-4e48-a67e-e0d64f06acb5"
      },
      "execution_count": 159,
      "outputs": [
        {
          "output_type": "execute_result",
          "data": {
            "text/plain": [
              "Index(['id', 'usage_class', 'checkout_type', 'checkout_year', 'checkout_month',\n",
              "       'checkouts', 'title', 'creator', 'subjects', 'publisher',\n",
              "       'publication_year', 'material_type'],\n",
              "      dtype='object')"
            ]
          },
          "metadata": {},
          "execution_count": 159
        }
      ]
    },
    {
      "cell_type": "code",
      "source": [
        "test_data.columns"
      ],
      "metadata": {
        "colab": {
          "base_uri": "https://localhost:8080/",
          "height": 0
        },
        "id": "xyy40V9ohYXt",
        "outputId": "3593bf33-fd8a-4b23-8a6b-c02db672101e"
      },
      "execution_count": 160,
      "outputs": [
        {
          "output_type": "execute_result",
          "data": {
            "text/plain": [
              "Index(['id', 'usage_class', 'checkout_type', 'checkout_year', 'checkout_month',\n",
              "       'checkouts', 'title', 'creator', 'subjects', 'publisher',\n",
              "       'publication_year', 'material_type'],\n",
              "      dtype='object')"
            ]
          },
          "metadata": {},
          "execution_count": 160
        }
      ]
    },
    {
      "cell_type": "code",
      "source": [
        "train_data.isnull().sum()"
      ],
      "metadata": {
        "colab": {
          "base_uri": "https://localhost:8080/",
          "height": 0
        },
        "id": "HQmwqwY9TTre",
        "outputId": "d7e5b157-76ce-49b3-c20b-4e2fe5b07be5"
      },
      "execution_count": 161,
      "outputs": [
        {
          "output_type": "execute_result",
          "data": {
            "text/plain": [
              "id                  0\n",
              "usage_class         0\n",
              "checkout_type       0\n",
              "checkout_year       0\n",
              "checkout_month      0\n",
              "checkouts           0\n",
              "title               0\n",
              "creator             0\n",
              "subjects            0\n",
              "publisher           0\n",
              "publication_year    0\n",
              "material_type       0\n",
              "dtype: int64"
            ]
          },
          "metadata": {},
          "execution_count": 161
        }
      ]
    },
    {
      "cell_type": "code",
      "source": [
        "train_data[\"title\"] = train_data[\"title\"].astype('string')\n",
        "train_data[\"creator\"] = train_data[\"creator\"].astype('string')\n",
        "train_data[\"subjects\"] = train_data[\"subjects\"].astype('string')\n",
        "train_data[\"publisher\"] = train_data[\"publisher\"].astype('string')"
      ],
      "metadata": {
        "id": "iv9t_F0bU93t"
      },
      "execution_count": 162,
      "outputs": []
    },
    {
      "cell_type": "code",
      "source": [
        "test_data[\"title\"] = test_data[\"title\"].astype('string')\n",
        "#test_data[\"creator\"] = test_data[\"creator\"].astype('string')\n",
        "test_data[\"subjects\"] = test_data[\"subjects\"].astype('string')\n",
        "#test_data[\"publisher\"] = test_data[\"publisher\"].astype('string')"
      ],
      "metadata": {
        "id": "Djk-M2Sfmi4H"
      },
      "execution_count": 163,
      "outputs": []
    },
    {
      "cell_type": "code",
      "source": [
        "train_data[\"title\"] = train_data[\"title\"].apply(lambda x: clean_text(x))\n",
        "train_data[\"creator\"] = train_data[\"creator\"].apply(lambda x: clean_text(x))\n",
        "train_data[\"subjects\"] = train_data[\"subjects\"].apply(lambda x: clean_text(x))\n",
        "train_data[\"publisher\"] = train_data[\"publisher\"].apply(lambda x: clean_text(x))\n"
      ],
      "metadata": {
        "id": "Rywpo4fxUdP4"
      },
      "execution_count": 164,
      "outputs": []
    },
    {
      "cell_type": "code",
      "source": [
        "test_data[\"title\"] = test_data[\"title\"].apply(lambda x: clean_text(x))\n",
        "test_data[\"subjects\"] = test_data[\"subjects\"].apply(lambda x: clean_text(x))"
      ],
      "metadata": {
        "id": "x0UYBL_XMjnx"
      },
      "execution_count": 165,
      "outputs": []
    },
    {
      "cell_type": "code",
      "source": [
        "train_data.drop(columns =\"creator\", inplace=True)\n",
        "train_data.drop(columns = \"publisher\", inplace=True)"
      ],
      "metadata": {
        "id": "s7ILAnRtMVwe"
      },
      "execution_count": 166,
      "outputs": []
    },
    {
      "cell_type": "code",
      "source": [
        "train_data.columns"
      ],
      "metadata": {
        "colab": {
          "base_uri": "https://localhost:8080/",
          "height": 0
        },
        "id": "HMr45VFGMV1F",
        "outputId": "2be79a4a-0bfd-42f6-ff4e-62d18940d1c7"
      },
      "execution_count": 167,
      "outputs": [
        {
          "output_type": "execute_result",
          "data": {
            "text/plain": [
              "Index(['id', 'usage_class', 'checkout_type', 'checkout_year', 'checkout_month',\n",
              "       'checkouts', 'title', 'subjects', 'publication_year', 'material_type'],\n",
              "      dtype='object')"
            ]
          },
          "metadata": {},
          "execution_count": 167
        }
      ]
    },
    {
      "cell_type": "markdown",
      "source": [
        "### Data Visualization"
      ],
      "metadata": {
        "id": "6p_gHwQYNmsz"
      }
    },
    {
      "cell_type": "code",
      "source": [
        "klib.cat_plot(train_data)"
      ],
      "metadata": {
        "colab": {
          "base_uri": "https://localhost:8080/",
          "height": 1000
        },
        "id": "liq47uKmNlFP",
        "outputId": "c7844868-ca30-49ff-c9e0-da2afbdaaaac"
      },
      "execution_count": 168,
      "outputs": [
        {
          "output_type": "execute_result",
          "data": {
            "text/plain": [
              "GridSpec(6, 2)"
            ]
          },
          "metadata": {},
          "execution_count": 168
        },
        {
          "output_type": "display_data",
          "data": {
            "text/plain": [
              "<Figure size 1800x1800 with 5 Axes>"
            ],
            "image/png": "[encoded data removed]"
          },
          "metadata": {}
        }
      ]
    },
    {
      "cell_type": "code",
      "source": [
        "klib.corr_mat(train_data)"
      ],
      "metadata": {
        "colab": {
          "base_uri": "https://localhost:8080/",
          "height": 300
        },
        "id": "phRebkLuNrlb",
        "outputId": "d3d330f7-5876-4f93-c051-0cd0b6c90c49"
      },
      "execution_count": 169,
      "outputs": [
        {
          "output_type": "execute_result",
          "data": {
            "text/plain": [
              "<pandas.io.formats.style.Styler at 0x7cbb1475d450>"
            ],
            "text/html": [
              "<style type=\"text/css\">\n",
              "#T_612d2_row0_col0, #T_612d2_row0_col1, #T_612d2_row0_col2, #T_612d2_row0_col3, #T_612d2_row0_col4, #T_612d2_row0_col6, #T_612d2_row1_col0, #T_612d2_row1_col1, #T_612d2_row1_col2, #T_612d2_row1_col3, #T_612d2_row1_col4, #T_612d2_row1_col5, #T_612d2_row1_col6, #T_612d2_row1_col7, #T_612d2_row2_col0, #T_612d2_row2_col1, #T_612d2_row2_col2, #T_612d2_row2_col3, #T_612d2_row2_col4, #T_612d2_row2_col5, #T_612d2_row2_col6, #T_612d2_row2_col7, #T_612d2_row3_col0, #T_612d2_row3_col1, #T_612d2_row3_col2, #T_612d2_row3_col3, #T_612d2_row3_col4, #T_612d2_row3_col5, #T_612d2_row3_col6, #T_612d2_row3_col7, #T_612d2_row4_col0, #T_612d2_row4_col1, #T_612d2_row4_col2, #T_612d2_row4_col3, #T_612d2_row4_col4, #T_612d2_row4_col5, #T_612d2_row4_col6, #T_612d2_row4_col7, #T_612d2_row5_col1, #T_612d2_row5_col2, #T_612d2_row5_col3, #T_612d2_row5_col4, #T_612d2_row5_col5, #T_612d2_row5_col6, #T_612d2_row5_col7, #T_612d2_row6_col0, #T_612d2_row6_col1, #T_612d2_row6_col2, #T_612d2_row6_col3, #T_612d2_row6_col4, #T_612d2_row6_col5, #T_612d2_row6_col6, #T_612d2_row7_col1, #T_612d2_row7_col2, #T_612d2_row7_col3, #T_612d2_row7_col4, #T_612d2_row7_col5, #T_612d2_row7_col7 {\n",
              "  color: None;\n",
              "}\n",
              "#T_612d2_row0_col5, #T_612d2_row0_col7, #T_612d2_row5_col0, #T_612d2_row6_col7, #T_612d2_row7_col0, #T_612d2_row7_col6 {\n",
              "  color: #FF3344;\n",
              "}\n",
              "</style>\n",
              "<table id=\"T_612d2\" class=\"dataframe\">\n",
              "  <thead>\n",
              "    <tr>\n",
              "      <th class=\"blank level0\" >&nbsp;</th>\n",
              "      <th id=\"T_612d2_level0_col0\" class=\"col_heading level0 col0\" >id</th>\n",
              "      <th id=\"T_612d2_level0_col1\" class=\"col_heading level0 col1\" >usage_class</th>\n",
              "      <th id=\"T_612d2_level0_col2\" class=\"col_heading level0 col2\" >checkout_type</th>\n",
              "      <th id=\"T_612d2_level0_col3\" class=\"col_heading level0 col3\" >checkout_year</th>\n",
              "      <th id=\"T_612d2_level0_col4\" class=\"col_heading level0 col4\" >checkout_month</th>\n",
              "      <th id=\"T_612d2_level0_col5\" class=\"col_heading level0 col5\" >checkouts</th>\n",
              "      <th id=\"T_612d2_level0_col6\" class=\"col_heading level0 col6\" >publication_year</th>\n",
              "      <th id=\"T_612d2_level0_col7\" class=\"col_heading level0 col7\" >material_type</th>\n",
              "    </tr>\n",
              "  </thead>\n",
              "  <tbody>\n",
              "    <tr>\n",
              "      <th id=\"T_612d2_level0_row0\" class=\"row_heading level0 row0\" >id</th>\n",
              "      <td id=\"T_612d2_row0_col0\" class=\"data row0 col0\" >1.00</td>\n",
              "      <td id=\"T_612d2_row0_col1\" class=\"data row0 col1\" >-</td>\n",
              "      <td id=\"T_612d2_row0_col2\" class=\"data row0 col2\" >-</td>\n",
              "      <td id=\"T_612d2_row0_col3\" class=\"data row0 col3\" >-</td>\n",
              "      <td id=\"T_612d2_row0_col4\" class=\"data row0 col4\" >-</td>\n",
              "      <td id=\"T_612d2_row0_col5\" class=\"data row0 col5\" >-0.01</td>\n",
              "      <td id=\"T_612d2_row0_col6\" class=\"data row0 col6\" >0.01</td>\n",
              "      <td id=\"T_612d2_row0_col7\" class=\"data row0 col7\" >-0.01</td>\n",
              "    </tr>\n",
              "    <tr>\n",
              "      <th id=\"T_612d2_level0_row1\" class=\"row_heading level0 row1\" >usage_class</th>\n",
              "      <td id=\"T_612d2_row1_col0\" class=\"data row1 col0\" >-</td>\n",
              "      <td id=\"T_612d2_row1_col1\" class=\"data row1 col1\" >-</td>\n",
              "      <td id=\"T_612d2_row1_col2\" class=\"data row1 col2\" >-</td>\n",
              "      <td id=\"T_612d2_row1_col3\" class=\"data row1 col3\" >-</td>\n",
              "      <td id=\"T_612d2_row1_col4\" class=\"data row1 col4\" >-</td>\n",
              "      <td id=\"T_612d2_row1_col5\" class=\"data row1 col5\" >-</td>\n",
              "      <td id=\"T_612d2_row1_col6\" class=\"data row1 col6\" >-</td>\n",
              "      <td id=\"T_612d2_row1_col7\" class=\"data row1 col7\" >-</td>\n",
              "    </tr>\n",
              "    <tr>\n",
              "      <th id=\"T_612d2_level0_row2\" class=\"row_heading level0 row2\" >checkout_type</th>\n",
              "      <td id=\"T_612d2_row2_col0\" class=\"data row2 col0\" >-</td>\n",
              "      <td id=\"T_612d2_row2_col1\" class=\"data row2 col1\" >-</td>\n",
              "      <td id=\"T_612d2_row2_col2\" class=\"data row2 col2\" >-</td>\n",
              "      <td id=\"T_612d2_row2_col3\" class=\"data row2 col3\" >-</td>\n",
              "      <td id=\"T_612d2_row2_col4\" class=\"data row2 col4\" >-</td>\n",
              "      <td id=\"T_612d2_row2_col5\" class=\"data row2 col5\" >-</td>\n",
              "      <td id=\"T_612d2_row2_col6\" class=\"data row2 col6\" >-</td>\n",
              "      <td id=\"T_612d2_row2_col7\" class=\"data row2 col7\" >-</td>\n",
              "    </tr>\n",
              "    <tr>\n",
              "      <th id=\"T_612d2_level0_row3\" class=\"row_heading level0 row3\" >checkout_year</th>\n",
              "      <td id=\"T_612d2_row3_col0\" class=\"data row3 col0\" >-</td>\n",
              "      <td id=\"T_612d2_row3_col1\" class=\"data row3 col1\" >-</td>\n",
              "      <td id=\"T_612d2_row3_col2\" class=\"data row3 col2\" >-</td>\n",
              "      <td id=\"T_612d2_row3_col3\" class=\"data row3 col3\" >-</td>\n",
              "      <td id=\"T_612d2_row3_col4\" class=\"data row3 col4\" >-</td>\n",
              "      <td id=\"T_612d2_row3_col5\" class=\"data row3 col5\" >-</td>\n",
              "      <td id=\"T_612d2_row3_col6\" class=\"data row3 col6\" >-</td>\n",
              "      <td id=\"T_612d2_row3_col7\" class=\"data row3 col7\" >-</td>\n",
              "    </tr>\n",
              "    <tr>\n",
              "      <th id=\"T_612d2_level0_row4\" class=\"row_heading level0 row4\" >checkout_month</th>\n",
              "      <td id=\"T_612d2_row4_col0\" class=\"data row4 col0\" >-</td>\n",
              "      <td id=\"T_612d2_row4_col1\" class=\"data row4 col1\" >-</td>\n",
              "      <td id=\"T_612d2_row4_col2\" class=\"data row4 col2\" >-</td>\n",
              "      <td id=\"T_612d2_row4_col3\" class=\"data row4 col3\" >-</td>\n",
              "      <td id=\"T_612d2_row4_col4\" class=\"data row4 col4\" >-</td>\n",
              "      <td id=\"T_612d2_row4_col5\" class=\"data row4 col5\" >-</td>\n",
              "      <td id=\"T_612d2_row4_col6\" class=\"data row4 col6\" >-</td>\n",
              "      <td id=\"T_612d2_row4_col7\" class=\"data row4 col7\" >-</td>\n",
              "    </tr>\n",
              "    <tr>\n",
              "      <th id=\"T_612d2_level0_row5\" class=\"row_heading level0 row5\" >checkouts</th>\n",
              "      <td id=\"T_612d2_row5_col0\" class=\"data row5 col0\" >-0.01</td>\n",
              "      <td id=\"T_612d2_row5_col1\" class=\"data row5 col1\" >-</td>\n",
              "      <td id=\"T_612d2_row5_col2\" class=\"data row5 col2\" >-</td>\n",
              "      <td id=\"T_612d2_row5_col3\" class=\"data row5 col3\" >-</td>\n",
              "      <td id=\"T_612d2_row5_col4\" class=\"data row5 col4\" >-</td>\n",
              "      <td id=\"T_612d2_row5_col5\" class=\"data row5 col5\" >1.00</td>\n",
              "      <td id=\"T_612d2_row5_col6\" class=\"data row5 col6\" >0.02</td>\n",
              "      <td id=\"T_612d2_row5_col7\" class=\"data row5 col7\" >0.24</td>\n",
              "    </tr>\n",
              "    <tr>\n",
              "      <th id=\"T_612d2_level0_row6\" class=\"row_heading level0 row6\" >publication_year</th>\n",
              "      <td id=\"T_612d2_row6_col0\" class=\"data row6 col0\" >0.01</td>\n",
              "      <td id=\"T_612d2_row6_col1\" class=\"data row6 col1\" >-</td>\n",
              "      <td id=\"T_612d2_row6_col2\" class=\"data row6 col2\" >-</td>\n",
              "      <td id=\"T_612d2_row6_col3\" class=\"data row6 col3\" >-</td>\n",
              "      <td id=\"T_612d2_row6_col4\" class=\"data row6 col4\" >-</td>\n",
              "      <td id=\"T_612d2_row6_col5\" class=\"data row6 col5\" >0.02</td>\n",
              "      <td id=\"T_612d2_row6_col6\" class=\"data row6 col6\" >1.00</td>\n",
              "      <td id=\"T_612d2_row6_col7\" class=\"data row6 col7\" >-0.19</td>\n",
              "    </tr>\n",
              "    <tr>\n",
              "      <th id=\"T_612d2_level0_row7\" class=\"row_heading level0 row7\" >material_type</th>\n",
              "      <td id=\"T_612d2_row7_col0\" class=\"data row7 col0\" >-0.01</td>\n",
              "      <td id=\"T_612d2_row7_col1\" class=\"data row7 col1\" >-</td>\n",
              "      <td id=\"T_612d2_row7_col2\" class=\"data row7 col2\" >-</td>\n",
              "      <td id=\"T_612d2_row7_col3\" class=\"data row7 col3\" >-</td>\n",
              "      <td id=\"T_612d2_row7_col4\" class=\"data row7 col4\" >-</td>\n",
              "      <td id=\"T_612d2_row7_col5\" class=\"data row7 col5\" >0.24</td>\n",
              "      <td id=\"T_612d2_row7_col6\" class=\"data row7 col6\" >-0.19</td>\n",
              "      <td id=\"T_612d2_row7_col7\" class=\"data row7 col7\" >1.00</td>\n",
              "    </tr>\n",
              "  </tbody>\n",
              "</table>\n"
            ]
          },
          "metadata": {},
          "execution_count": 169
        }
      ]
    },
    {
      "cell_type": "code",
      "source": [
        "klib.corr_plot(train_data)"
      ],
      "metadata": {
        "colab": {
          "base_uri": "https://localhost:8080/",
          "height": 974
        },
        "id": "Rc7aQfyiNxP3",
        "outputId": "c0a7234e-bf6d-4b38-9a88-401b2e33f3d5"
      },
      "execution_count": 170,
      "outputs": [
        {
          "output_type": "execute_result",
          "data": {
            "text/plain": [
              "<Axes: title={'center': 'Feature-correlation (pearson)'}>"
            ]
          },
          "metadata": {},
          "execution_count": 170
        },
        {
          "output_type": "display_data",
          "data": {
            "text/plain": [
              "<Figure size 1200x1000 with 2 Axes>"
            ],
            "image/png": "[encoded data removed]"
          },
          "metadata": {}
        }
      ]
    },
    {
      "cell_type": "code",
      "source": [
        "klib.dist_plot(train_data)"
      ],
      "metadata": {
        "colab": {
          "base_uri": "https://localhost:8080/",
          "height": 250
        },
        "id": "NVz5z-PTN4DP",
        "outputId": "4a6296af-d191-450c-f006-017a9c5e3ed9"
      },
      "execution_count": 171,
      "outputs": [
        {
          "output_type": "stream",
          "name": "stdout",
          "text": [
            "Large dataset detected, using 10000 random samples for the plots. Summary statistics are still based on the entire dataset.\n"
          ]
        },
        {
          "output_type": "execute_result",
          "data": {
            "text/plain": [
              "<Axes: xlabel='id', ylabel='Density'>"
            ]
          },
          "metadata": {},
          "execution_count": 171
        },
        {
          "output_type": "display_data",
          "data": {
            "text/plain": [
              "<Figure size 1500x300 with 1 Axes>"
            ],
            "image/png": "[encoded data removed]"
          },
          "metadata": {}
        }
      ]
    },
    {
      "cell_type": "code",
      "source": [
        "klib.missingval_plot(train_data)"
      ],
      "metadata": {
        "colab": {
          "base_uri": "https://localhost:8080/",
          "height": 0
        },
        "id": "U0O1W3d2N8TE",
        "outputId": "06b61bbb-ff35-4ed9-c4f9-2d07d5b23ab5"
      },
      "execution_count": 172,
      "outputs": [
        {
          "output_type": "stream",
          "name": "stdout",
          "text": [
            "No missing values found in the dataset.\n"
          ]
        }
      ]
    },
    {
      "cell_type": "code",
      "source": [
        "test_data.columns"
      ],
      "metadata": {
        "colab": {
          "base_uri": "https://localhost:8080/",
          "height": 0
        },
        "id": "uJnaqcdoMV4x",
        "outputId": "c4c6ba8e-8be2-4690-fdbb-25489b34a4e3"
      },
      "execution_count": 173,
      "outputs": [
        {
          "output_type": "execute_result",
          "data": {
            "text/plain": [
              "Index(['id', 'usage_class', 'checkout_type', 'checkout_year', 'checkout_month',\n",
              "       'checkouts', 'title', 'creator', 'subjects', 'publisher',\n",
              "       'publication_year', 'material_type'],\n",
              "      dtype='object')"
            ]
          },
          "metadata": {},
          "execution_count": 173
        }
      ]
    },
    {
      "cell_type": "markdown",
      "source": [
        " ### Vectorization Of the Column Using `TF-IDF Vectorizer`\n"
      ],
      "metadata": {
        "id": "uKJ2DDUHc-u5"
      }
    },
    {
      "cell_type": "code",
      "source": [
        "from sklearn.feature_extraction.text import TfidfVectorizer\n"
      ],
      "metadata": {
        "id": "AWC5hiJzLW8_"
      },
      "execution_count": 174,
      "outputs": []
    },
    {
      "cell_type": "code",
      "source": [
        "MAX_WORDS = 200000\n",
        "from tensorflow.keras.layers import TextVectorization"
      ],
      "metadata": {
        "id": "wKFiUPYpdHFx"
      },
      "execution_count": 175,
      "outputs": []
    },
    {
      "cell_type": "code",
      "source": [
        "vectorizer = TextVectorization(max_tokens = MAX_WORDS,\n",
        "output_sequence_length = 1800,\n",
        "output_mode = 'int')\n"
      ],
      "metadata": {
        "id": "-bMjLr7CdHPm"
      },
      "execution_count": 176,
      "outputs": []
    },
    {
      "cell_type": "code",
      "source": [
        "train_data.columns\n"
      ],
      "metadata": {
        "colab": {
          "base_uri": "https://localhost:8080/",
          "height": 0
        },
        "id": "eNfYo8BcdHZc",
        "outputId": "d0e8e966-11d8-4f4b-e75a-b6d9b6e6c6d7"
      },
      "execution_count": 177,
      "outputs": [
        {
          "output_type": "execute_result",
          "data": {
            "text/plain": [
              "Index(['id', 'usage_class', 'checkout_type', 'checkout_year', 'checkout_month',\n",
              "       'checkouts', 'title', 'subjects', 'publication_year', 'material_type'],\n",
              "      dtype='object')"
            ]
          },
          "metadata": {},
          "execution_count": 177
        }
      ]
    },
    {
      "cell_type": "code",
      "source": [
        "vectorizer.adapt(train_data[\"subjects\"].values)"
      ],
      "metadata": {
        "id": "g0ofA1MadHkB"
      },
      "execution_count": 178,
      "outputs": []
    },
    {
      "cell_type": "code",
      "source": [
        "vectorizer.get_vocabulary()"
      ],
      "metadata": {
        "colab": {
          "base_uri": "https://localhost:8080/",
          "height": 0
        },
        "id": "H1oYEe4XdHvG",
        "outputId": "af4798d5-38a8-4526-d09b-3c827811772f"
      },
      "execution_count": 179,
      "outputs": [
        {
          "output_type": "execute_result",
          "data": {
            "text/plain": [
              "['',\n",
              " '[UNK]',\n",
              " 'fiction',\n",
              " 'juvenile',\n",
              " 'and',\n",
              " 'literature',\n",
              " 'music',\n",
              " 'states',\n",
              " 'united',\n",
              " 'films',\n",
              " 'history',\n",
              " 'drama',\n",
              " 'recordings',\n",
              " 'for',\n",
              " 'the',\n",
              " 'biography',\n",
              " 'stories',\n",
              " 'video',\n",
              " 'fictitious',\n",
              " 'women',\n",
              " 'character',\n",
              " 'hearing',\n",
              " 'impaired',\n",
              " 'popular',\n",
              " 'life',\n",
              " 'books',\n",
              " 'mystery',\n",
              " 'etc',\n",
              " 'feature',\n",
              " 'new',\n",
              " 'century',\n",
              " 'of',\n",
              " 'th',\n",
              " 'american',\n",
              " 'england',\n",
              " 'childrens',\n",
              " 'rock',\n",
              " 'social',\n",
              " 'in',\n",
              " 'english',\n",
              " 'language',\n",
              " 'york',\n",
              " 'songs',\n",
              " 'jazz',\n",
              " 'war',\n",
              " 'travel',\n",
              " 'guidebooks',\n",
              " 'state',\n",
              " 'americans',\n",
              " 'comic',\n",
              " 'african',\n",
              " 'strips',\n",
              " 'aspects',\n",
              " 'poetry',\n",
              " 'works',\n",
              " 'love',\n",
              " 'great',\n",
              " 'customs',\n",
              " 'science',\n",
              " 'animals',\n",
              " 'britain',\n",
              " 'type',\n",
              " 'large',\n",
              " 'world',\n",
              " 'manuals',\n",
              " 'france',\n",
              " 'psychological',\n",
              " 'washington',\n",
              " 'america',\n",
              " 'relations',\n",
              " 'historical',\n",
              " 'description',\n",
              " 'china',\n",
              " 'children',\n",
              " 'fantasy',\n",
              " 'sound',\n",
              " 'television',\n",
              " 'psychology',\n",
              " 'n',\n",
              " 'family',\n",
              " 'art',\n",
              " 'indians',\n",
              " 'folklore',\n",
              " 'motion',\n",
              " 'japan',\n",
              " 'domestic',\n",
              " 'north',\n",
              " 'california',\n",
              " 'friendship',\n",
              " 'animated',\n",
              " 'government',\n",
              " 'pictorial',\n",
              " 'schools',\n",
              " 'y',\n",
              " 'handbooks',\n",
              " 'picture',\n",
              " 'politics',\n",
              " 'dogs',\n",
              " 'humorous',\n",
              " 'cookery',\n",
              " 'with',\n",
              " 'relationships',\n",
              " 'criticism',\n",
              " 'piano',\n",
              " 'mexico',\n",
              " 's',\n",
              " 'police',\n",
              " 'novels',\n",
              " 'authors',\n",
              " 'italy',\n",
              " 'detective',\n",
              " 'folk',\n",
              " 'self',\n",
              " 'graphic',\n",
              " 'comedy',\n",
              " 'programs',\n",
              " 'sisters',\n",
              " 'study',\n",
              " 'c',\n",
              " 'west',\n",
              " 'rhyme',\n",
              " 'spanish',\n",
              " 'child',\n",
              " 'computer',\n",
              " 'foreign',\n",
              " 'country',\n",
              " 'religious',\n",
              " 'u',\n",
              " 'civilization',\n",
              " 'london',\n",
              " 'men',\n",
              " 'chinese',\n",
              " 'ireland',\n",
              " 'conditions',\n",
              " 'people',\n",
              " 'tales',\n",
              " 'man',\n",
              " 'investigators',\n",
              " 'suspense',\n",
              " 'private',\n",
              " 'woman',\n",
              " 'christian',\n",
              " 'management',\n",
              " 'brothers',\n",
              " 'to',\n",
              " 'calif',\n",
              " 'human',\n",
              " 'pacific',\n",
              " 'behavior',\n",
              " 'africa',\n",
              " 'mothers',\n",
              " 'orchestra',\n",
              " 'personal',\n",
              " 'business',\n",
              " 'humor',\n",
              " 'young',\n",
              " 'decoration',\n",
              " 'design',\n",
              " 'miscellanea',\n",
              " 'health',\n",
              " 'seattle',\n",
              " 'murder',\n",
              " 'civil',\n",
              " 'teaching',\n",
              " 'john',\n",
              " 'fathers',\n",
              " 'studies',\n",
              " 'los',\n",
              " 'cats',\n",
              " 'angeles',\n",
              " 'materials',\n",
              " 'germany',\n",
              " 'region',\n",
              " 'adventure',\n",
              " 'japanese',\n",
              " 'd',\n",
              " 'blues',\n",
              " 'dance',\n",
              " 'political',\n",
              " 'death',\n",
              " 'speakers',\n",
              " 'exhibitions',\n",
              " 'europe',\n",
              " 'architecture',\n",
              " 'dictionaries',\n",
              " 'daughters',\n",
              " 'national',\n",
              " 'india',\n",
              " 'gardening',\n",
              " 'excerpts',\n",
              " 'cooking',\n",
              " 'b',\n",
              " 'wash',\n",
              " 'south',\n",
              " 'case',\n",
              " 'musical',\n",
              " 'jewish',\n",
              " 'horror',\n",
              " 'painting',\n",
              " 'short',\n",
              " 'interpersonal',\n",
              " 'girls',\n",
              " 'education',\n",
              " 'musicians',\n",
              " 'christmas',\n",
              " 'northwest',\n",
              " 'middle',\n",
              " 'magic',\n",
              " 'interior',\n",
              " 'french',\n",
              " 'detectives',\n",
              " 'city',\n",
              " 'russia',\n",
              " 'photography',\n",
              " 'industry',\n",
              " 'fairy',\n",
              " 'time',\n",
              " 'egypt',\n",
              " 'families',\n",
              " 'instrumental',\n",
              " 'high',\n",
              " 'vietnamese',\n",
              " 'amateurs',\n",
              " 'school',\n",
              " 'imaginary',\n",
              " 'technique',\n",
              " 'san',\n",
              " 'river',\n",
              " 'authorship',\n",
              " 'sex',\n",
              " 'economic',\n",
              " 'scotland',\n",
              " 'instruction',\n",
              " 'king',\n",
              " 'bears',\n",
              " 'pictures',\n",
              " 'construction',\n",
              " 'bildungsromans',\n",
              " 'anecdotes',\n",
              " 'western',\n",
              " 'race',\n",
              " 'guitar',\n",
              " 'church',\n",
              " 'southern',\n",
              " 'philosophy',\n",
              " 'crimes',\n",
              " 'experiments',\n",
              " 'ecology',\n",
              " 'teenage',\n",
              " 'rap',\n",
              " 'string',\n",
              " 'jews',\n",
              " 'canada',\n",
              " 'operas',\n",
              " 'animal',\n",
              " 'married',\n",
              " 'conduct',\n",
              " 'baseball',\n",
              " 'arranged',\n",
              " 'teenagers',\n",
              " 'rights',\n",
              " 'presidents',\n",
              " 'finance',\n",
              " 'reading',\n",
              " 'mythology',\n",
              " 'william',\n",
              " 'persons',\n",
              " 'paris',\n",
              " 'latin',\n",
              " 'culture',\n",
              " 'parent',\n",
              " 'interpretation',\n",
              " 'characters',\n",
              " 'texas',\n",
              " 'journalists',\n",
              " 'spain',\n",
              " 'sons',\n",
              " 'hawaii',\n",
              " 'george',\n",
              " 'buddhism',\n",
              " 'artists',\n",
              " 'place',\n",
              " 'francisco',\n",
              " 'arts',\n",
              " 'east',\n",
              " 'vietnam',\n",
              " 'plants',\n",
              " 'gardens',\n",
              " 'on',\n",
              " 'massachusetts',\n",
              " 'mass',\n",
              " 'christianity',\n",
              " 'alphabet',\n",
              " 'spiritual',\n",
              " 'vocals',\n",
              " 'translations',\n",
              " 'conflict',\n",
              " 'british',\n",
              " 'patients',\n",
              " 'natural',\n",
              " 'marriage',\n",
              " 'into',\n",
              " 'birds',\n",
              " 'antiquities',\n",
              " 'house',\n",
              " 'collections',\n",
              " 'alaska',\n",
              " 'violin',\n",
              " 'medicine',\n",
              " 'food',\n",
              " 'exercises',\n",
              " 'college',\n",
              " 'identity',\n",
              " 'diet',\n",
              " 'care',\n",
              " 'australia',\n",
              " 'against',\n",
              " 'development',\n",
              " 'mice',\n",
              " 'communication',\n",
              " 'space',\n",
              " 'modern',\n",
              " 'legal',\n",
              " 'interviews',\n",
              " 'county',\n",
              " 'military',\n",
              " 'law',\n",
              " 'island',\n",
              " 'florida',\n",
              " 'chicago',\n",
              " 'patterns',\n",
              " 'serial',\n",
              " 'homes',\n",
              " 'diaries',\n",
              " 'training',\n",
              " 'islands',\n",
              " 'terrorism',\n",
              " 'teachers',\n",
              " 'saint',\n",
              " 'prevention',\n",
              " 'investigation',\n",
              " 'youth',\n",
              " 'public',\n",
              " 'policy',\n",
              " 'work',\n",
              " 'students',\n",
              " 'nature',\n",
              " 'ill',\n",
              " 'concertos',\n",
              " 'age',\n",
              " 'actors',\n",
              " 'vocational',\n",
              " 'orphans',\n",
              " 'handicraft',\n",
              " 'counting',\n",
              " 'trade',\n",
              " 'musicals',\n",
              " 'exercise',\n",
              " 'basketball',\n",
              " 'romantic',\n",
              " 'indian',\n",
              " 'holocaust',\n",
              " 'religion',\n",
              " 'pets',\n",
              " 'games',\n",
              " 'bible',\n",
              " 'single',\n",
              " 'kings',\n",
              " 'italian',\n",
              " 'gay',\n",
              " 'medical',\n",
              " 'james',\n",
              " 'greece',\n",
              " 'environmental',\n",
              " 'day',\n",
              " 'carolina',\n",
              " 'problems',\n",
              " 'mental',\n",
              " 'literary',\n",
              " 'rome',\n",
              " 'physical',\n",
              " 'guidance',\n",
              " 'wit',\n",
              " 'valley',\n",
              " 'disabilities',\n",
              " 'revolution',\n",
              " 'mississippi',\n",
              " 'home',\n",
              " 'actresses',\n",
              " 'therapy',\n",
              " 'success',\n",
              " 'sea',\n",
              " 'color',\n",
              " 'service',\n",
              " 'oregon',\n",
              " 'mexican',\n",
              " 'trials',\n",
              " 'treatment',\n",
              " 'rulers',\n",
              " 'identification',\n",
              " 'dinosaurs',\n",
              " 'aged',\n",
              " 'virginia',\n",
              " 'pennsylvania',\n",
              " 'voice',\n",
              " 'union',\n",
              " 'novelists',\n",
              " 'intelligence',\n",
              " 'horses',\n",
              " 'dwellings',\n",
              " 'diseases',\n",
              " 'cuba',\n",
              " 'childhood',\n",
              " 'park',\n",
              " 'missing',\n",
              " 'guides',\n",
              " 'town',\n",
              " 'planning',\n",
              " 'microsoft',\n",
              " 'i',\n",
              " 'greek',\n",
              " 'w',\n",
              " 'players',\n",
              " 'pioneer',\n",
              " 'narratives',\n",
              " 'mary',\n",
              " 'j',\n",
              " 'henry',\n",
              " 'frontier',\n",
              " 'forest',\n",
              " 'coast',\n",
              " 'a',\n",
              " 'wars',\n",
              " 'victims',\n",
              " 'israel',\n",
              " 'fitness',\n",
              " 'collection',\n",
              " 'catholic',\n",
              " 'boys',\n",
              " 'jersey',\n",
              " 'farm',\n",
              " 'exploration',\n",
              " 'software',\n",
              " 'grandmothers',\n",
              " 'crime',\n",
              " 'web',\n",
              " 'spy',\n",
              " 'prisoners',\n",
              " 'hygiene',\n",
              " 'haunts',\n",
              " 'female',\n",
              " 'encyclopedias',\n",
              " 'central',\n",
              " 'boston',\n",
              " 'abuse',\n",
              " 'vampires',\n",
              " 'multimedia',\n",
              " 'louisiana',\n",
              " 'thomas',\n",
              " 'program',\n",
              " 'periodicals',\n",
              " 'de',\n",
              " 'cartoons',\n",
              " 'biology',\n",
              " 'use',\n",
              " 'making',\n",
              " 'landscape',\n",
              " 'drawing',\n",
              " 'cancer',\n",
              " 'brazil',\n",
              " 'air',\n",
              " 'soviet',\n",
              " 'sexual',\n",
              " 'richard',\n",
              " 'edward',\n",
              " 'spouses',\n",
              " 'sports',\n",
              " 'operations',\n",
              " 'knitting',\n",
              " 'interactive',\n",
              " 'body',\n",
              " 'ballet',\n",
              " 'babies',\n",
              " 'yoga',\n",
              " 'recipes',\n",
              " 'dragons',\n",
              " 'textbooks',\n",
              " 'revenge',\n",
              " 'toy',\n",
              " 'symphonies',\n",
              " 'singers',\n",
              " 'queens',\n",
              " 'legendary',\n",
              " 'directories',\n",
              " 'russian',\n",
              " 'queen',\n",
              " 'marine',\n",
              " 'international',\n",
              " 'infants',\n",
              " 'ghosts',\n",
              " 'discovery',\n",
              " 'pigs',\n",
              " 'murderers',\n",
              " 'maintenance',\n",
              " 'federation',\n",
              " 'enterprises',\n",
              " 'charles',\n",
              " 'biographical',\n",
              " 'twins',\n",
              " 'repair',\n",
              " 'netherlands',\n",
              " 'naval',\n",
              " 'mountains',\n",
              " 'legends',\n",
              " 'illinois',\n",
              " 'heroes',\n",
              " 'comedies',\n",
              " 'adult',\n",
              " 'workers',\n",
              " 'mount',\n",
              " 'georgia',\n",
              " 'electronic',\n",
              " 'christ',\n",
              " 'arthur',\n",
              " 'writing',\n",
              " 'shakespeare',\n",
              " 'movements',\n",
              " 'judaism',\n",
              " 'jesus',\n",
              " 'clothing',\n",
              " 'catalogs',\n",
              " 'series',\n",
              " 'parenting',\n",
              " 'german',\n",
              " 'first',\n",
              " 'countries',\n",
              " 'clergy',\n",
              " 'witches',\n",
              " 'planets',\n",
              " 'nutrition',\n",
              " 'investments',\n",
              " 'ii',\n",
              " 'file',\n",
              " 'criminals',\n",
              " 'automobile',\n",
              " 'sonatas',\n",
              " 'saxophone',\n",
              " 'physicians',\n",
              " 'period',\n",
              " 'murders',\n",
              " 'lewis',\n",
              " 'fla',\n",
              " 'employment',\n",
              " 'early',\n",
              " 'conservation',\n",
              " 'campaigns',\n",
              " 'st',\n",
              " 'sites',\n",
              " 'philippines',\n",
              " 'loss',\n",
              " 'islam',\n",
              " 'friends',\n",
              " 'railroads',\n",
              " 'poets',\n",
              " 'orchestral',\n",
              " 'officers',\n",
              " 'lawyers',\n",
              " 'immigration',\n",
              " 'evolution',\n",
              " 'dancing',\n",
              " 'asia',\n",
              " 'adaptations',\n",
              " 'water',\n",
              " 'voyages',\n",
              " 'ocean',\n",
              " 'immigrants',\n",
              " 'etiquette',\n",
              " 'elizabeth',\n",
              " 'black',\n",
              " 'theater',\n",
              " 'systems',\n",
              " 'racing',\n",
              " 'rabbits',\n",
              " 'other',\n",
              " 'movable',\n",
              " 'houses',\n",
              " 'hiking',\n",
              " 'furniture',\n",
              " 'fire',\n",
              " 'ex',\n",
              " 'alternative',\n",
              " 'therapeutic',\n",
              " 'survival',\n",
              " 'republic',\n",
              " 'rearing',\n",
              " 'mathematics',\n",
              " 'low',\n",
              " 'kidnapping',\n",
              " 'examinations',\n",
              " 'drug',\n",
              " 'area',\n",
              " 'actualization',\n",
              " 'underground',\n",
              " 'ships',\n",
              " 'scores',\n",
              " 'remodeling',\n",
              " 'radio',\n",
              " 'questions',\n",
              " 'publishing',\n",
              " 'princesses',\n",
              " 'perception',\n",
              " 'mixed',\n",
              " 'maine',\n",
              " 'emigration',\n",
              " 'disease',\n",
              " 'correspondence',\n",
              " 'buildings',\n",
              " 'big',\n",
              " 'toys',\n",
              " 't',\n",
              " 'suites',\n",
              " 'paul',\n",
              " 'orleans',\n",
              " 'monsters',\n",
              " 'methods',\n",
              " 'medieval',\n",
              " 'marketing',\n",
              " 'irish',\n",
              " 'horse',\n",
              " 'franklin',\n",
              " 'columbia',\n",
              " 'robert',\n",
              " 'regions',\n",
              " 'internet',\n",
              " 'creative',\n",
              " 'beauty',\n",
              " 'sources',\n",
              " 'philadelphia',\n",
              " 'ornament',\n",
              " 'ensemble',\n",
              " 'elementary',\n",
              " 'dating',\n",
              " 'insects',\n",
              " 'bilingual',\n",
              " 'appreciation',\n",
              " 'wine',\n",
              " 'vocabulary',\n",
              " 'technology',\n",
              " 'supernatural',\n",
              " 'old',\n",
              " 'iran',\n",
              " 'ethnic',\n",
              " 'birthdays',\n",
              " 'vocal',\n",
              " 'regency',\n",
              " 'participation',\n",
              " 'mother',\n",
              " 'moral',\n",
              " 'm',\n",
              " 'legislation',\n",
              " 'justice',\n",
              " 'infancy',\n",
              " 'grandfathers',\n",
              " 'costume',\n",
              " 'battle',\n",
              " 'arizona',\n",
              " 'policewomen',\n",
              " 'peter',\n",
              " 'parties',\n",
              " 'gospel',\n",
              " 'employees',\n",
              " 'clark',\n",
              " 'beings',\n",
              " 'army',\n",
              " 'arab',\n",
              " 'violoncello',\n",
              " 'soul',\n",
              " 'scientists',\n",
              " 'resources',\n",
              " 'rain',\n",
              " 'movement',\n",
              " 'montana',\n",
              " 'halloween',\n",
              " 'doctrines',\n",
              " 'control',\n",
              " 'colorado',\n",
              " 'class',\n",
              " 'bedtime',\n",
              " 'activity',\n",
              " 'wizards',\n",
              " 'stephen',\n",
              " 'small',\n",
              " 'rhymes',\n",
              " 'pa',\n",
              " 'nursery',\n",
              " 'northern',\n",
              " 'martial',\n",
              " 'collecting',\n",
              " 'change',\n",
              " 'brown',\n",
              " 'band',\n",
              " 'adventurers',\n",
              " 'trumpet',\n",
              " 'sir',\n",
              " 'quartets',\n",
              " 'puzzles',\n",
              " 'jewelry',\n",
              " 'explorers',\n",
              " 'emperor',\n",
              " 'dog',\n",
              " 'disorders',\n",
              " 'celtic',\n",
              " 'caricatures',\n",
              " 'soldiers',\n",
              " 'restaurants',\n",
              " 'railroad',\n",
              " 'producers',\n",
              " 'louis',\n",
              " 'fashion',\n",
              " 'erotic',\n",
              " 'directors',\n",
              " 'archaeology',\n",
              " 'accidents',\n",
              " 'va',\n",
              " 'trains',\n",
              " 'settings',\n",
              " 'sacred',\n",
              " 'recreation',\n",
              " 'real',\n",
              " 'poland',\n",
              " 'minnesota',\n",
              " 'iraq',\n",
              " 'hatha',\n",
              " 'geography',\n",
              " 'estate',\n",
              " 'congresses',\n",
              " 'collectors',\n",
              " 'ca',\n",
              " 'biblical',\n",
              " 'as',\n",
              " 'widows',\n",
              " 'weight',\n",
              " 'weddings',\n",
              " 'videos',\n",
              " 'traffic',\n",
              " 'tibet',\n",
              " 'thrillers',\n",
              " 'textile',\n",
              " 'sleep',\n",
              " 'role',\n",
              " 'prehistoric',\n",
              " 'grief',\n",
              " 'film',\n",
              " 'automobiles',\n",
              " 'venice',\n",
              " 'trees',\n",
              " 'services',\n",
              " 'outdoor',\n",
              " 'ornamental',\n",
              " 'labor',\n",
              " 'expedition',\n",
              " 'ethics',\n",
              " 'equipment',\n",
              " 'choruses',\n",
              " 'wilderness',\n",
              " 'voices',\n",
              " 'veterans',\n",
              " 'triangles',\n",
              " 'system',\n",
              " 'robots',\n",
              " 'play',\n",
              " 'parents',\n",
              " 'korea',\n",
              " 'influence',\n",
              " 'hunting',\n",
              " 'divorced',\n",
              " 'circus',\n",
              " 'building',\n",
              " 'urban',\n",
              " 'spies',\n",
              " 'personnel',\n",
              " 'mind',\n",
              " 'joseph',\n",
              " 'industrial',\n",
              " 'harry',\n",
              " 'garden',\n",
              " 'football',\n",
              " 'fear',\n",
              " 'educational',\n",
              " 'conversation',\n",
              " 'bill',\n",
              " 'bear',\n",
              " 'arctic',\n",
              " 'advertising',\n",
              " 'adoption',\n",
              " 'wildlife',\n",
              " 'visual',\n",
              " 'vegetarian',\n",
              " 'utah',\n",
              " 'themes',\n",
              " 'southwest',\n",
              " 'security',\n",
              " 'problem',\n",
              " 'pregnancy',\n",
              " 'physics',\n",
              " 'owners',\n",
              " 'nev',\n",
              " 'jack',\n",
              " 'flute',\n",
              " 'esteem',\n",
              " 'digital',\n",
              " 'contemporary',\n",
              " 'caribbean',\n",
              " 'bibliography',\n",
              " 'yorkshire',\n",
              " 'style',\n",
              " 'soccer',\n",
              " 'slavery',\n",
              " 'parks',\n",
              " 'painters',\n",
              " 'metal',\n",
              " 'la',\n",
              " 'fishes',\n",
              " 'elephants',\n",
              " 'divorce',\n",
              " 'community',\n",
              " 'characteristics',\n",
              " 'anatomy',\n",
              " 'ability',\n",
              " 'working',\n",
              " 'techniques',\n",
              " 'structures',\n",
              " 'skills',\n",
              " 'rites',\n",
              " 'plays',\n",
              " 'phrase',\n",
              " 'korean',\n",
              " 'household',\n",
              " 'grammar',\n",
              " 'disorder',\n",
              " 'associates',\n",
              " 'artistic',\n",
              " 'adolescence',\n",
              " 'zealand',\n",
              " 'trail',\n",
              " 'theory',\n",
              " 'student',\n",
              " 'snow',\n",
              " 'shipwrecks',\n",
              " 'prisons',\n",
              " 'opinion',\n",
              " 'motives',\n",
              " 'michael',\n",
              " 'media',\n",
              " 'intellectual',\n",
              " 'imagination',\n",
              " 'f',\n",
              " 'electric',\n",
              " 'earth',\n",
              " 'dress',\n",
              " 'david',\n",
              " 'comics',\n",
              " 'wolves',\n",
              " 'witchcraft',\n",
              " 'wild',\n",
              " 'size',\n",
              " 'santa',\n",
              " 'roosevelt',\n",
              " 'reggae',\n",
              " 'reducing',\n",
              " 'ranch',\n",
              " 'puget',\n",
              " 'photographers',\n",
              " 'monkeys',\n",
              " 'inheritance',\n",
              " 'hollywood',\n",
              " 'group',\n",
              " 'frogs',\n",
              " 'flowers',\n",
              " 'ethical',\n",
              " 'deaf',\n",
              " 'computers',\n",
              " 'company',\n",
              " 'bluegrass',\n",
              " 'assassination',\n",
              " 'ancient',\n",
              " 'ages',\n",
              " 'wales',\n",
              " 'vegas',\n",
              " 'tennessee',\n",
              " 'taiwan',\n",
              " 'suicide',\n",
              " 'succession',\n",
              " 'species',\n",
              " 'sciences',\n",
              " 'portuguese',\n",
              " 'occupations',\n",
              " 'nicholas',\n",
              " 'method',\n",
              " 'las',\n",
              " 'knights',\n",
              " 'illness',\n",
              " 'ducks',\n",
              " 'bush',\n",
              " 'alabama',\n",
              " 'wisconsin',\n",
              " 'violence',\n",
              " 'travels',\n",
              " 'supplies',\n",
              " 'stress',\n",
              " 'specimens',\n",
              " 'rich',\n",
              " 'production',\n",
              " 'processing',\n",
              " 'pilots',\n",
              " 'missouri',\n",
              " 'lullabies',\n",
              " 'kennedy',\n",
              " 'job',\n",
              " 'historic',\n",
              " 'habits',\n",
              " 'h',\n",
              " 'ghost',\n",
              " 'game',\n",
              " 'endangered',\n",
              " 'emotions',\n",
              " 'camps',\n",
              " 'book',\n",
              " 'beadwork',\n",
              " 'bass',\n",
              " 'asian',\n",
              " 'argentina',\n",
              " 'airplanes',\n",
              " 'adultery',\n",
              " 'warfare',\n",
              " 'shows',\n",
              " 'r',\n",
              " 'provence',\n",
              " 'practices',\n",
              " 'power',\n",
              " 'peoples',\n",
              " 'peninsula',\n",
              " 'navajo',\n",
              " 'moving',\n",
              " 'libraries',\n",
              " 'knighthood',\n",
              " 'inspector',\n",
              " 'influences',\n",
              " 'hong',\n",
              " 'foods',\n",
              " 'flight',\n",
              " 'economics',\n",
              " 'desert',\n",
              " 'brain',\n",
              " 'baltimore',\n",
              " 'atlantic',\n",
              " 'aeronautics',\n",
              " 'walker',\n",
              " 'organized',\n",
              " 'nevada',\n",
              " 'network',\n",
              " 'maryland',\n",
              " 'lesbians',\n",
              " 'jane',\n",
              " 'inventors',\n",
              " 'herbs',\n",
              " 'healing',\n",
              " 'forecasting',\n",
              " 'cultural',\n",
              " 'cross',\n",
              " 'criminal',\n",
              " 'composers',\n",
              " 'anime',\n",
              " 'aging',\n",
              " 'aerial',\n",
              " 'zen',\n",
              " 'statesmen',\n",
              " 'star',\n",
              " 'quality',\n",
              " 'plains',\n",
              " 'moon',\n",
              " 'meditation',\n",
              " 'martin',\n",
              " 'mammals',\n",
              " 'lost',\n",
              " 'inventions',\n",
              " 'fishing',\n",
              " 'eastern',\n",
              " 'butterflies',\n",
              " 'best',\n",
              " 'answers',\n",
              " 'acting',\n",
              " 'x',\n",
              " 'whales',\n",
              " 'treasure',\n",
              " 'texts',\n",
              " 'snakes',\n",
              " 'safety',\n",
              " 'research',\n",
              " 'quilts',\n",
              " ...]"
            ]
          },
          "metadata": {},
          "execution_count": 179
        }
      ]
    },
    {
      "cell_type": "code",
      "source": [
        "TrainvectorizedText = vectorizer(train_data[\"subjects\"].values)\n"
      ],
      "metadata": {
        "id": "55wiPd71dX5J"
      },
      "execution_count": 180,
      "outputs": []
    },
    {
      "cell_type": "code",
      "source": [
        "vectorizer.adapt(test_data[\"subjects\"].values)"
      ],
      "metadata": {
        "id": "kTAbEbg4ddiE"
      },
      "execution_count": 181,
      "outputs": []
    },
    {
      "cell_type": "code",
      "source": [
        "TestvectorizedText = vectorizer(test_data[\"subjects\"].values)\n"
      ],
      "metadata": {
        "id": "WqRYZeCfdfmj"
      },
      "execution_count": 182,
      "outputs": []
    },
    {
      "cell_type": "code",
      "source": [
        "import scipy\n"
      ],
      "metadata": {
        "id": "IuOUOC68diP9"
      },
      "execution_count": 183,
      "outputs": []
    },
    {
      "cell_type": "code",
      "source": [
        "train_data.columns\n"
      ],
      "metadata": {
        "colab": {
          "base_uri": "https://localhost:8080/",
          "height": 0
        },
        "id": "6RkmcGbadln0",
        "outputId": "e4603e99-b583-4080-f502-9c9817a14355"
      },
      "execution_count": 184,
      "outputs": [
        {
          "output_type": "execute_result",
          "data": {
            "text/plain": [
              "Index(['id', 'usage_class', 'checkout_type', 'checkout_year', 'checkout_month',\n",
              "       'checkouts', 'title', 'subjects', 'publication_year', 'material_type'],\n",
              "      dtype='object')"
            ]
          },
          "metadata": {},
          "execution_count": 184
        }
      ]
    },
    {
      "cell_type": "code",
      "source": [
        "Y_train = pd.get_dummies(train_data.material_type)\n",
        "Y_test = pd.get_dummies(test_data.material_type)\n"
      ],
      "metadata": {
        "id": "XvI6vscWdmTg"
      },
      "execution_count": 185,
      "outputs": []
    },
    {
      "cell_type": "code",
      "source": [
        "import tensorflow as tf"
      ],
      "metadata": {
        "id": "VM5ZtnTYdqdH"
      },
      "execution_count": 186,
      "outputs": []
    },
    {
      "cell_type": "code",
      "source": [
        "#MCSHBAP - map, cache, suffle, batch, prefetch\n",
        "dataset = tf.data.Dataset.from_tensor_slices((TrainvectorizedText, Y_train))\n",
        "dataset = dataset.cache()\n",
        "dataset = dataset.shuffle(160000)\n",
        "dataset = dataset.batch(16)\n",
        "dataset = dataset.prefetch(8) #helps bottleneck\n"
      ],
      "metadata": {
        "id": "sXXcQxMLdsBD"
      },
      "execution_count": 187,
      "outputs": []
    },
    {
      "cell_type": "code",
      "source": [
        "dataset.as_numpy_iterator().next()\n"
      ],
      "metadata": {
        "colab": {
          "base_uri": "https://localhost:8080/",
          "height": 0
        },
        "id": "3vv4kzFAdvyQ",
        "outputId": "86095ff1-e19a-4d30-c669-74655f11b2e5"
      },
      "execution_count": 188,
      "outputs": [
        {
          "output_type": "execute_result",
          "data": {
            "text/plain": [
              "(array([[  26,    2,  331, ...,    0,    0,    0],\n",
              "        [ 202, 2153,  178, ...,    0,    0,    0],\n",
              "        [5063,   82,    3, ...,    0,    0,    0],\n",
              "        ...,\n",
              "        [3164, 1383,    2, ...,    0,    0,    0],\n",
              "        [   0,    0,    0, ...,    0,    0,    0],\n",
              "        [  19,   15, 3038, ...,    0,    0,    0]]),\n",
              " array([[1, 0, 0, 0, 0, 0, 0, 0],\n",
              "        [1, 0, 0, 0, 0, 0, 0, 0],\n",
              "        [1, 0, 0, 0, 0, 0, 0, 0],\n",
              "        [1, 0, 0, 0, 0, 0, 0, 0],\n",
              "        [1, 0, 0, 0, 0, 0, 0, 0],\n",
              "        [0, 0, 0, 0, 0, 0, 1, 0],\n",
              "        [1, 0, 0, 0, 0, 0, 0, 0],\n",
              "        [1, 0, 0, 0, 0, 0, 0, 0],\n",
              "        [1, 0, 0, 0, 0, 0, 0, 0],\n",
              "        [1, 0, 0, 0, 0, 0, 0, 0],\n",
              "        [1, 0, 0, 0, 0, 0, 0, 0],\n",
              "        [1, 0, 0, 0, 0, 0, 0, 0],\n",
              "        [1, 0, 0, 0, 0, 0, 0, 0],\n",
              "        [1, 0, 0, 0, 0, 0, 0, 0],\n",
              "        [1, 0, 0, 0, 0, 0, 0, 0],\n",
              "        [1, 0, 0, 0, 0, 0, 0, 0]], dtype=uint8))"
            ]
          },
          "metadata": {},
          "execution_count": 188
        }
      ]
    },
    {
      "cell_type": "code",
      "source": [
        "batch_x, batch_y = dataset.as_numpy_iterator().next()\n"
      ],
      "metadata": {
        "id": "wwa1YEcjdxc3"
      },
      "execution_count": 189,
      "outputs": []
    },
    {
      "cell_type": "code",
      "source": [
        "batch_x\n",
        "batch_x.shape\n",
        "batch_y.shape"
      ],
      "metadata": {
        "colab": {
          "base_uri": "https://localhost:8080/",
          "height": 0
        },
        "id": "ImALdF6Fd0vM",
        "outputId": "b68c2f77-96c4-4097-d404-39d075efee9a"
      },
      "execution_count": 190,
      "outputs": [
        {
          "output_type": "execute_result",
          "data": {
            "text/plain": [
              "(16, 8)"
            ]
          },
          "metadata": {},
          "execution_count": 190
        }
      ]
    },
    {
      "cell_type": "code",
      "source": [
        "len(train_data)\n"
      ],
      "metadata": {
        "colab": {
          "base_uri": "https://localhost:8080/",
          "height": 0
        },
        "id": "YGJbLjWyd35D",
        "outputId": "376708fd-ffe0-458a-c0d7-4590114cf72f"
      },
      "execution_count": 191,
      "outputs": [
        {
          "output_type": "execute_result",
          "data": {
            "text/plain": [
              "31653"
            ]
          },
          "metadata": {},
          "execution_count": 191
        }
      ]
    },
    {
      "cell_type": "code",
      "source": [
        "train = dataset.take(int(len(dataset)*.7))\n",
        "val = dataset.skip(int(len(dataset)*.7)).take(int(len(dataset)*.2))\n",
        "test = dataset.skip(int(len(dataset)*.9)).take(int(len(dataset)*.1))"
      ],
      "metadata": {
        "id": "g_qOohw3d5ua"
      },
      "execution_count": 192,
      "outputs": []
    },
    {
      "cell_type": "code",
      "source": [
        "len(train)"
      ],
      "metadata": {
        "colab": {
          "base_uri": "https://localhost:8080/",
          "height": 0
        },
        "id": "LGdCnPhbd9Zw",
        "outputId": "0bc94fc1-f64d-4531-ba79-1e83cea1e2c8"
      },
      "execution_count": 193,
      "outputs": [
        {
          "output_type": "execute_result",
          "data": {
            "text/plain": [
              "1385"
            ]
          },
          "metadata": {},
          "execution_count": 193
        }
      ]
    },
    {
      "cell_type": "code",
      "source": [
        "train_generator = train.as_numpy_iterator()\n"
      ],
      "metadata": {
        "id": "gAL3ZDGed_Bu"
      },
      "execution_count": 194,
      "outputs": []
    },
    {
      "cell_type": "code",
      "source": [
        "train_generator.next()\n"
      ],
      "metadata": {
        "colab": {
          "base_uri": "https://localhost:8080/",
          "height": 0
        },
        "id": "n9AEz9qEd_Pv",
        "outputId": "658ffb39-65dd-47bf-dea9-ed8f4ef7b56e"
      },
      "execution_count": 195,
      "outputs": [
        {
          "output_type": "execute_result",
          "data": {
            "text/plain": [
              "(array([[ 7323,  4821,    18, ...,     0,     0,     0],\n",
              "        [    8,     7,    10, ...,     0,     0,     0],\n",
              "        [   99,     0,     0, ...,     0,     0,     0],\n",
              "        ...,\n",
              "        [ 1820,  1600,   264, ...,     0,     0,     0],\n",
              "        [10517,   473,    45, ...,     0,     0,     0],\n",
              "        [11367,  4158,     0, ...,     0,     0,     0]]),\n",
              " array([[1, 0, 0, 0, 0, 0, 0, 0],\n",
              "        [0, 0, 0, 0, 1, 0, 0, 0],\n",
              "        [1, 0, 0, 0, 0, 0, 0, 0],\n",
              "        [0, 0, 1, 0, 0, 0, 0, 0],\n",
              "        [1, 0, 0, 0, 0, 0, 0, 0],\n",
              "        [1, 0, 0, 0, 0, 0, 0, 0],\n",
              "        [0, 0, 0, 0, 0, 0, 0, 1],\n",
              "        [1, 0, 0, 0, 0, 0, 0, 0],\n",
              "        [0, 0, 0, 0, 1, 0, 0, 0],\n",
              "        [1, 0, 0, 0, 0, 0, 0, 0],\n",
              "        [1, 0, 0, 0, 0, 0, 0, 0],\n",
              "        [1, 0, 0, 0, 0, 0, 0, 0],\n",
              "        [1, 0, 0, 0, 0, 0, 0, 0],\n",
              "        [1, 0, 0, 0, 0, 0, 0, 0],\n",
              "        [1, 0, 0, 0, 0, 0, 0, 0],\n",
              "        [0, 0, 0, 0, 0, 0, 1, 0]], dtype=uint8))"
            ]
          },
          "metadata": {},
          "execution_count": 195
        }
      ]
    },
    {
      "cell_type": "code",
      "source": [
        "from tensorflow.keras.models import Sequential\n",
        "from tensorflow.keras.layers import LSTM, Dropout, Bidirectional, Embedding, Dense\n"
      ],
      "metadata": {
        "id": "JM4-K-7Ud_Zj"
      },
      "execution_count": 196,
      "outputs": []
    },
    {
      "cell_type": "code",
      "source": [
        "model = Sequential()\n",
        "# Creating the embedding layer\n",
        "model.add(Embedding(MAX_WORDS+1, 32))\n",
        "# Bidirectional LSTM Layer\n",
        "model.add(Bidirectional(LSTM(32, activation='tanh')))\n",
        "# Feature extractor Fully connected layers\n",
        "model.add(Dense(128, activation='relu'))\n",
        "model.add(Dropout(0.4))\n",
        "model.add(Dense(256, activation='relu'))\n",
        "model.add(Dropout(0.4))\n",
        "model.add(Dense(128, activation='relu'))\n",
        "# Final layer\n",
        "model.add(Dense(8, activation='sigmoid'))\n"
      ],
      "metadata": {
        "id": "67LSiGWceIpY"
      },
      "execution_count": 197,
      "outputs": []
    },
    {
      "cell_type": "code",
      "source": [
        "model.compile(loss='BinaryCrossentropy', optimizer='Adam', metrics=['accuracy'])\n"
      ],
      "metadata": {
        "id": "u68bnLMLeIw-"
      },
      "execution_count": 198,
      "outputs": []
    },
    {
      "cell_type": "code",
      "source": [
        "model.summary()"
      ],
      "metadata": {
        "colab": {
          "base_uri": "https://localhost:8080/",
          "height": 0
        },
        "id": "ArRpdtiVeI3g",
        "outputId": "a74757b1-2fff-4e62-a9f4-24f02dd86bc3"
      },
      "execution_count": 199,
      "outputs": [
        {
          "output_type": "stream",
          "name": "stdout",
          "text": [
            "Model: \"sequential_1\"\n",
            "_________________________________________________________________\n",
            " Layer (type)                Output Shape              Param #   \n",
            "=================================================================\n",
            " embedding_1 (Embedding)     (None, None, 32)          6400032   \n",
            "                                                                 \n",
            " bidirectional_1 (Bidirecti  (None, 64)                16640     \n",
            " onal)                                                           \n",
            "                                                                 \n",
            " dense_4 (Dense)             (None, 128)               8320      \n",
            "                                                                 \n",
            " dropout_2 (Dropout)         (None, 128)               0         \n",
            "                                                                 \n",
            " dense_5 (Dense)             (None, 256)               33024     \n",
            "                                                                 \n",
            " dropout_3 (Dropout)         (None, 256)               0         \n",
            "                                                                 \n",
            " dense_6 (Dense)             (None, 128)               32896     \n",
            "                                                                 \n",
            " dense_7 (Dense)             (None, 8)                 1032      \n",
            "                                                                 \n",
            "=================================================================\n",
            "Total params: 6491944 (24.76 MB)\n",
            "Trainable params: 6491944 (24.76 MB)\n",
            "Non-trainable params: 0 (0.00 Byte)\n",
            "_________________________________________________________________\n"
          ]
        }
      ]
    },
    {
      "cell_type": "code",
      "source": [
        "import tensorflow as tf"
      ],
      "metadata": {
        "id": "rdMkpYhOfIck"
      },
      "execution_count": 200,
      "outputs": []
    },
    {
      "cell_type": "code",
      "source": [
        "es_callback = tf.keras.callbacks.EarlyStopping(monitor='val_loss', patience=3)"
      ],
      "metadata": {
        "id": "nAHDHs4LeI9k"
      },
      "execution_count": 201,
      "outputs": []
    },
    {
      "cell_type": "code",
      "source": [
        "model.fit(train, epochs=41, validation_data = val, callbacks=[es_callback])"
      ],
      "metadata": {
        "colab": {
          "base_uri": "https://localhost:8080/",
          "height": 0
        },
        "id": "yYBQnvGneJDb",
        "outputId": "5bd346e8-2b60-4e0d-8114-4c0a5a4842de"
      },
      "execution_count": 202,
      "outputs": [
        {
          "output_type": "stream",
          "name": "stdout",
          "text": [
            "Epoch 1/41\n",
            "1385/1385 [==============================] - 158s 111ms/step - loss: 0.1375 - accuracy: 0.8242 - val_loss: 0.1047 - val_accuracy: 0.8578\n",
            "Epoch 2/41\n",
            "1385/1385 [==============================] - 141s 102ms/step - loss: 0.1016 - accuracy: 0.8644 - val_loss: 0.0900 - val_accuracy: 0.8699\n",
            "Epoch 3/41\n",
            "1385/1385 [==============================] - 142s 103ms/step - loss: 0.0894 - accuracy: 0.8751 - val_loss: 0.0815 - val_accuracy: 0.8858\n",
            "Epoch 4/41\n",
            "1385/1385 [==============================] - 143s 103ms/step - loss: 0.0835 - accuracy: 0.8796 - val_loss: 0.0699 - val_accuracy: 0.8986\n",
            "Epoch 5/41\n",
            "1385/1385 [==============================] - 139s 100ms/step - loss: 0.0759 - accuracy: 0.8905 - val_loss: 0.0647 - val_accuracy: 0.9005\n",
            "Epoch 6/41\n",
            "1385/1385 [==============================] - 138s 100ms/step - loss: 0.0706 - accuracy: 0.8963 - val_loss: 0.0611 - val_accuracy: 0.9054\n",
            "Epoch 7/41\n",
            "1385/1385 [==============================] - 139s 100ms/step - loss: 0.0659 - accuracy: 0.9039 - val_loss: 0.0577 - val_accuracy: 0.9160\n",
            "Epoch 8/41\n",
            "1385/1385 [==============================] - 137s 99ms/step - loss: 0.0620 - accuracy: 0.9109 - val_loss: 0.0522 - val_accuracy: 0.9241\n",
            "Epoch 9/41\n",
            "1385/1385 [==============================] - 139s 101ms/step - loss: 0.0589 - accuracy: 0.9157 - val_loss: 0.0490 - val_accuracy: 0.9280\n",
            "Epoch 10/41\n",
            "1385/1385 [==============================] - 138s 99ms/step - loss: 0.0562 - accuracy: 0.9192 - val_loss: 0.0484 - val_accuracy: 0.9305\n",
            "Epoch 11/41\n",
            "1385/1385 [==============================] - 137s 99ms/step - loss: 0.0526 - accuracy: 0.9250 - val_loss: 0.0508 - val_accuracy: 0.9261\n",
            "Epoch 12/41\n",
            "1385/1385 [==============================] - 139s 101ms/step - loss: 0.0506 - accuracy: 0.9294 - val_loss: 0.0457 - val_accuracy: 0.9351\n",
            "Epoch 13/41\n",
            "1385/1385 [==============================] - 137s 99ms/step - loss: 0.0500 - accuracy: 0.9290 - val_loss: 0.0460 - val_accuracy: 0.9321\n",
            "Epoch 14/41\n",
            "1385/1385 [==============================] - 139s 100ms/step - loss: 0.0471 - accuracy: 0.9332 - val_loss: 0.0452 - val_accuracy: 0.9388\n",
            "Epoch 15/41\n",
            "1385/1385 [==============================] - 138s 100ms/step - loss: 0.0465 - accuracy: 0.9347 - val_loss: 0.0423 - val_accuracy: 0.9411\n",
            "Epoch 16/41\n",
            "1385/1385 [==============================] - 138s 99ms/step - loss: 0.0458 - accuracy: 0.9352 - val_loss: 0.0405 - val_accuracy: 0.9434\n",
            "Epoch 17/41\n",
            "1385/1385 [==============================] - 139s 101ms/step - loss: 0.0429 - accuracy: 0.9387 - val_loss: 0.0376 - val_accuracy: 0.9494\n",
            "Epoch 18/41\n",
            "1385/1385 [==============================] - 145s 105ms/step - loss: 0.0433 - accuracy: 0.9381 - val_loss: 0.0383 - val_accuracy: 0.9449\n",
            "Epoch 19/41\n",
            "1385/1385 [==============================] - 138s 99ms/step - loss: 0.0422 - accuracy: 0.9411 - val_loss: 0.0375 - val_accuracy: 0.9454\n",
            "Epoch 20/41\n",
            "1385/1385 [==============================] - 138s 99ms/step - loss: 0.0407 - accuracy: 0.9417 - val_loss: 0.0361 - val_accuracy: 0.9464\n",
            "Epoch 21/41\n",
            "1385/1385 [==============================] - 144s 104ms/step - loss: 0.0397 - accuracy: 0.9447 - val_loss: 0.0355 - val_accuracy: 0.9475\n",
            "Epoch 22/41\n",
            "1385/1385 [==============================] - 141s 102ms/step - loss: 0.0386 - accuracy: 0.9446 - val_loss: 0.0377 - val_accuracy: 0.9438\n",
            "Epoch 23/41\n",
            "1385/1385 [==============================] - 139s 101ms/step - loss: 0.0385 - accuracy: 0.9454 - val_loss: 0.0361 - val_accuracy: 0.9473\n",
            "Epoch 24/41\n",
            "1385/1385 [==============================] - 137s 99ms/step - loss: 0.0377 - accuracy: 0.9468 - val_loss: 0.0347 - val_accuracy: 0.9468\n",
            "Epoch 25/41\n",
            "1385/1385 [==============================] - 140s 101ms/step - loss: 0.0375 - accuracy: 0.9478 - val_loss: 0.0313 - val_accuracy: 0.9555\n",
            "Epoch 26/41\n",
            "1385/1385 [==============================] - 138s 100ms/step - loss: 0.0356 - accuracy: 0.9499 - val_loss: 0.0338 - val_accuracy: 0.9506\n",
            "Epoch 27/41\n",
            "1385/1385 [==============================] - 140s 101ms/step - loss: 0.0356 - accuracy: 0.9497 - val_loss: 0.0324 - val_accuracy: 0.9565\n",
            "Epoch 28/41\n",
            "1385/1385 [==============================] - 139s 100ms/step - loss: 0.0354 - accuracy: 0.9498 - val_loss: 0.0330 - val_accuracy: 0.9541\n"
          ]
        },
        {
          "output_type": "execute_result",
          "data": {
            "text/plain": [
              "<keras.src.callbacks.History at 0x7cbbb68767a0>"
            ]
          },
          "metadata": {},
          "execution_count": 202
        }
      ]
    },
    {
      "cell_type": "code",
      "source": [
        "#from matplotlib import pyplot as plt\n",
        "#plt.figure(figsize=(15,12))\n",
        "#pd.DataFrame(history.history).plot()\n",
        "#plt.show()\n"
      ],
      "metadata": {
        "id": "P47iCWu1d_jv"
      },
      "execution_count": 205,
      "outputs": []
    },
    {
      "cell_type": "code",
      "source": [
        "from tensorflow.keras.metrics import Precision, Recall, CategoricalAccuracy"
      ],
      "metadata": {
        "id": "OFlUQghjh6ku"
      },
      "execution_count": 206,
      "outputs": []
    },
    {
      "cell_type": "code",
      "source": [
        "model.evaluate(TrainvectorizedText)\n"
      ],
      "metadata": {
        "id": "cuu7d4ZrojLQ",
        "colab": {
          "base_uri": "https://localhost:8080/",
          "height": 0
        },
        "outputId": "f2d38b8d-8dbf-4036-8e1d-ee0a5dd9f8c9"
      },
      "execution_count": 207,
      "outputs": [
        {
          "output_type": "stream",
          "name": "stdout",
          "text": [
            "990/990 [==============================] - 2s 2ms/step - loss: 0.0000e+00 - accuracy: 0.0000e+00\n"
          ]
        },
        {
          "output_type": "execute_result",
          "data": {
            "text/plain": [
              "[0.0, 0.0]"
            ]
          },
          "metadata": {},
          "execution_count": 207
        }
      ]
    },
    {
      "cell_type": "code",
      "source": [
        "Y_pred = (model.predict(TestvectorizedText) > 0.5).astype(int)"
      ],
      "metadata": {
        "id": "WDaySbf9omBA",
        "colab": {
          "base_uri": "https://localhost:8080/",
          "height": 0
        },
        "outputId": "97b59403-2361-48c8-bcb4-e6a7375e2dae"
      },
      "execution_count": 208,
      "outputs": [
        {
          "output_type": "stream",
          "name": "stdout",
          "text": [
            "660/660 [==============================] - 30s 45ms/step\n"
          ]
        }
      ]
    },
    {
      "cell_type": "code",
      "source": [
        "Y_pred\n",
        "Y_pred = pd.DataFrame(Y_pred)\n"
      ],
      "metadata": {
        "id": "3BVpd_IPooYX"
      },
      "execution_count": 209,
      "outputs": []
    },
    {
      "cell_type": "code",
      "source": [
        "Y_pred.shape\n"
      ],
      "metadata": {
        "id": "0PofaFbDortS",
        "colab": {
          "base_uri": "https://localhost:8080/",
          "height": 0
        },
        "outputId": "bac68994-0dab-4747-ac31-df6f96197a3c"
      },
      "execution_count": 210,
      "outputs": [
        {
          "output_type": "execute_result",
          "data": {
            "text/plain": [
              "(21102, 8)"
            ]
          },
          "metadata": {},
          "execution_count": 210
        }
      ]
    },
    {
      "cell_type": "code",
      "source": [
        "##\n",
        "output = {\n",
        "    0: \"BOOK\",\n",
        "    1: \"CR\",\n",
        "    2: \"MIXED\" ,\n",
        "    3: \"MUSIC\" ,\n",
        "    4: \"SOUNDCASS\" ,\n",
        "    5: \"SOUNDDISC\" ,\n",
        "    6: \"VIDEOCASS\" ,\n",
        "    7: \"VIDEODISC\"\n",
        "}"
      ],
      "metadata": {
        "id": "AmR1efYwotga"
      },
      "execution_count": 211,
      "outputs": []
    },
    {
      "cell_type": "code",
      "source": [
        "Y_pred = pd.DataFrame(Y_pred)\n"
      ],
      "metadata": {
        "id": "EMGlglOuo2he"
      },
      "execution_count": 212,
      "outputs": []
    },
    {
      "cell_type": "code",
      "source": [
        "from sklearn.preprocessing import OneHotEncoder\n",
        "enc = OneHotEncoder(handle_unknown='ignore')"
      ],
      "metadata": {
        "id": "zq7Pe_Gdo4ff"
      },
      "execution_count": 213,
      "outputs": []
    },
    {
      "cell_type": "code",
      "source": [
        "new_Y_pred = Y_pred.idxmax(axis=1)"
      ],
      "metadata": {
        "id": "zo9QpbIxo6U6"
      },
      "execution_count": 214,
      "outputs": []
    },
    {
      "cell_type": "code",
      "source": [
        "new_Y_test = Y_test.idxmax(axis=1)\n"
      ],
      "metadata": {
        "id": "K8XW0yruo8rQ"
      },
      "execution_count": 215,
      "outputs": []
    },
    {
      "cell_type": "code",
      "source": [
        "new_Y_pred = pd.DataFrame(new_Y_pred)"
      ],
      "metadata": {
        "id": "5FZYN-oco-YO"
      },
      "execution_count": 216,
      "outputs": []
    },
    {
      "cell_type": "code",
      "source": [
        "new_Y_test = pd.DataFrame(new_Y_test)"
      ],
      "metadata": {
        "id": "ioAoeARYo_7b"
      },
      "execution_count": 217,
      "outputs": []
    },
    {
      "cell_type": "code",
      "source": [
        "new_Y_pred = new_Y_pred.rename(columns ={0: \"PREDICT\"} )\n"
      ],
      "metadata": {
        "id": "aRQP56uepCbH"
      },
      "execution_count": 218,
      "outputs": []
    },
    {
      "cell_type": "code",
      "source": [
        "new_Y_test = new_Y_test.rename(columns ={0: \"PREDICT\"} )"
      ],
      "metadata": {
        "id": "Jt1yi8eWpE4R"
      },
      "execution_count": 219,
      "outputs": []
    },
    {
      "cell_type": "code",
      "source": [
        "print('Baseline: Accuracy: ', round(accuracy_score(new_Y_test, new_Y_pred)*100, 2))\n"
      ],
      "metadata": {
        "id": "cArIC-yHpIDm",
        "colab": {
          "base_uri": "https://localhost:8080/",
          "height": 0
        },
        "outputId": "0f50c9f5-9b65-4b35-f10a-ebbb128d607d"
      },
      "execution_count": 220,
      "outputs": [
        {
          "output_type": "stream",
          "name": "stdout",
          "text": [
            "Baseline: Accuracy:  77.54\n"
          ]
        }
      ]
    },
    {
      "cell_type": "code",
      "source": [
        "new_Y_pred[\"PREDICT\"] = new_Y_pred[\"PREDICT\"].map(output)\n",
        "new_Y_test[\"PREDICT\"] = new_Y_test[\"PREDICT\"].map(output)\n"
      ],
      "metadata": {
        "id": "Z9Dil7D-pJzk"
      },
      "execution_count": 221,
      "outputs": []
    },
    {
      "cell_type": "code",
      "source": [
        "new_Y_pred[\"PREDICT\"].unique()\n"
      ],
      "metadata": {
        "id": "P453yx5xpRQP",
        "colab": {
          "base_uri": "https://localhost:8080/",
          "height": 0
        },
        "outputId": "bce58bbf-1d78-48f7-cec1-071a617c1e68"
      },
      "execution_count": 222,
      "outputs": [
        {
          "output_type": "execute_result",
          "data": {
            "text/plain": [
              "array(['BOOK', 'VIDEOCASS', 'SOUNDDISC', 'VIDEODISC', 'CR', 'SOUNDCASS',\n",
              "       'MIXED', 'MUSIC'], dtype=object)"
            ]
          },
          "metadata": {},
          "execution_count": 222
        }
      ]
    },
    {
      "cell_type": "code",
      "source": [
        "keys = ['BOOK', 'SOUNDDISC', 'SOUNDCASS', 'VIDEOCASS', 'VIDEODISC',\n",
        "'MUSIC', 'CR', 'MIXED']\n",
        "explode = [0, 0.3, 0.1, 0.1, 0.1, 0.4, 0.4, 0.1]\n"
      ],
      "metadata": {
        "id": "8rSSSKGNpTme"
      },
      "execution_count": 223,
      "outputs": []
    },
    {
      "cell_type": "code",
      "source": [
        "all = new_Y_pred[\"PREDICT\"].value_counts()\n"
      ],
      "metadata": {
        "id": "yYXTOnldpVdm"
      },
      "execution_count": 224,
      "outputs": []
    },
    {
      "cell_type": "code",
      "source": [
        "new_Y_pred.to_csv(\"predict_nn.csv\")"
      ],
      "metadata": {
        "id": "R9lLp9shS0Ma"
      },
      "execution_count": 227,
      "outputs": []
    },
    {
      "cell_type": "code",
      "source": [
        "plt.figure(figsize = [15,8])\n",
        "# plotting data on chart\n",
        "plt.pie(all, labels=keys, explode=explode, autopct='%.1f%%')\n",
        "# displaying chart\n",
        "plt.show()"
      ],
      "metadata": {
        "id": "LoWzRgcEpWKw",
        "colab": {
          "base_uri": "https://localhost:8080/",
          "height": 656
        },
        "outputId": "45c09b07-5aae-4896-967e-3a0f74e07ce9"
      },
      "execution_count": 225,
      "outputs": [
        {
          "output_type": "display_data",
          "data": {
            "text/plain": [
              "<Figure size 1500x800 with 1 Axes>"
            ],
            "image/png": "[encoded data removed]"
          },
          "metadata": {}
        }
      ]
    },
    {
      "cell_type": "code",
      "source": [],
      "metadata": {
        "id": "NCId3LTUQ471"
      },
      "execution_count": null,
      "outputs": []
    }
  ]
}